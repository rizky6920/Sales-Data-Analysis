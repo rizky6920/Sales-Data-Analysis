{
 "cells": [
  {
   "cell_type": "markdown",
   "id": "3ba6cf91",
   "metadata": {},
   "source": [
    "# Sales Data Analysis"
   ]
  },
  {
   "cell_type": "markdown",
   "id": "a534de0c",
   "metadata": {},
   "source": [
    "## Introduction\n",
    "The main objective here is to extract key performance indicators (KPIs) that will help to make data-driven decisions and improve company business. The data used in this case is Sales Data of Electronic Products in the USA."
   ]
  },
  {
   "cell_type": "markdown",
   "id": "c57d6800",
   "metadata": {},
   "source": [
    "## Context\n",
    "In this project, we'll be generating insights from sales data, trends, and metrics to set targets and forecast future sales performance. It can help to evaluate the performance of the sales team to achieve its goals. It provides insights about the top-performing and underperforming products/services, the problems in selling and market opportunities, sales forecasting, and sales activities that generate revenue."
   ]
  },
  {
   "cell_type": "markdown",
   "id": "57e95920",
   "metadata": {},
   "source": [
    "## Content\n",
    "* `Order ID` - An Order ID is the number system that Amazon uses exclusively to keep track of orders. Each order receives its own Order ID that will not be duplicated. This number can be useful to the seller when attempting to find out certain details about an order such as shipment date or status.\n",
    "* `Product` - The product that have been sold.\n",
    "* `Quantity Ordered` - Ordered Quantity is the total item quantity ordered in the initial order (without any changes).\n",
    "* `Price Each` - The price of each products.\n",
    "* `Order Date` - This is the date the customer is requesting the order be shipped.\n",
    "* `Purchase Address` - The purchase order is prepared by the buyer, often through a purchasing department. The purchase order, or PO, usually includes a PO number, which is useful in matching shipments with purchases; a shipping date; billing address; shipping address; and the request items, quantities and price."
   ]
  },
  {
   "cell_type": "markdown",
   "id": "0cdfd569",
   "metadata": {},
   "source": [
    "## Question to Answer\n",
    "1. What is the total number of sales?\n",
    "2. What is the average sales per month? \n",
    "3. What was the best month for sales? How much was earned that month?\n",
    "4. What City had the highest number of sales?\n",
    "5. What product sold the most? Why it sold the most?\n",
    "6. What products are most often sold together?\n",
    "7. What time should we display adverstisement to maximize likelihood of customer's buying product?"
   ]
  },
  {
   "cell_type": "markdown",
   "id": "d60bfdd5",
   "metadata": {},
   "source": [
    "___"
   ]
  },
  {
   "cell_type": "markdown",
   "id": "1dfcbf49",
   "metadata": {},
   "source": [
    "# Import Libraries"
   ]
  },
  {
   "cell_type": "code",
   "execution_count": 3,
   "id": "25a4b8d4",
   "metadata": {},
   "outputs": [],
   "source": [
    "# Importing Necessary Libraries\n",
    "import numpy as np\n",
    "import pandas as pd\n",
    "import matplotlib.pyplot as plt\n",
    "import seaborn as sns\n",
    "import os\n",
    "import glob"
   ]
  },
  {
   "cell_type": "markdown",
   "id": "c877b325",
   "metadata": {},
   "source": [
    "# Merge Data"
   ]
  },
  {
   "cell_type": "code",
   "execution_count": 5,
   "id": "c38ac471",
   "metadata": {},
   "outputs": [
    {
     "name": "stdout",
     "output_type": "stream",
     "text": [
      ".ipynb_checkpoints\n",
      "Sales_April_2019.csv\n",
      "Sales_August_2019.csv\n",
      "Sales_Data_Analysis.ipynb\n",
      "Sales_December_2019.csv\n",
      "Sales_February_2019.csv\n",
      "Sales_January_2019.csv\n",
      "Sales_July_2019.csv\n",
      "Sales_June_2019.csv\n",
      "Sales_March_2019.csv\n",
      "Sales_May_2019.csv\n",
      "Sales_November_2019.csv\n",
      "Sales_October_2019.csv\n",
      "Sales_September_2019.csv\n"
     ]
    }
   ],
   "source": [
    "for i in os.listdir('E:\\Documents\\Dataset\\Sales_Product'):\n",
    "    print(i)"
   ]
  },
  {
   "cell_type": "code",
   "execution_count": 7,
   "id": "f7d70f7e",
   "metadata": {},
   "outputs": [],
   "source": [
    "# Setting the path for joining multiple files\n",
    "files = os.path.join(\"E:\\Documents\\Dataset\\Sales_Product\", \"Sales*.csv\")\n",
    "\n",
    "# list of merged files returned\n",
    "files = glob.glob(files)\n",
    "\n",
    "# Joining files with concat and read_csv\n",
    "all_months_data = pd.concat(map(pd.read_csv, files), ignore_index=True)\n",
    "\n",
    "# Export all data to csv    \n",
    "all_months_data.to_csv(\"Sales_2019.csv\", index=False)"
   ]
  },
  {
   "cell_type": "markdown",
   "id": "1f8bfe8d",
   "metadata": {},
   "source": [
    "# Read Sales Data"
   ]
  },
  {
   "cell_type": "code",
   "execution_count": 2,
   "id": "d93b09d6",
   "metadata": {},
   "outputs": [
    {
     "data": {
      "text/html": [
       "<div>\n",
       "<style scoped>\n",
       "    .dataframe tbody tr th:only-of-type {\n",
       "        vertical-align: middle;\n",
       "    }\n",
       "\n",
       "    .dataframe tbody tr th {\n",
       "        vertical-align: top;\n",
       "    }\n",
       "\n",
       "    .dataframe thead th {\n",
       "        text-align: right;\n",
       "    }\n",
       "</style>\n",
       "<table border=\"1\" class=\"dataframe\">\n",
       "  <thead>\n",
       "    <tr style=\"text-align: right;\">\n",
       "      <th></th>\n",
       "      <th>Order ID</th>\n",
       "      <th>Product</th>\n",
       "      <th>Quantity Ordered</th>\n",
       "      <th>Price Each</th>\n",
       "      <th>Order Date</th>\n",
       "      <th>Purchase Address</th>\n",
       "    </tr>\n",
       "  </thead>\n",
       "  <tbody>\n",
       "    <tr>\n",
       "      <th>0</th>\n",
       "      <td>176558</td>\n",
       "      <td>USB-C Charging Cable</td>\n",
       "      <td>2</td>\n",
       "      <td>11.95</td>\n",
       "      <td>04/19/19 08:46</td>\n",
       "      <td>917 1st St, Dallas, TX 75001</td>\n",
       "    </tr>\n",
       "    <tr>\n",
       "      <th>1</th>\n",
       "      <td>NaN</td>\n",
       "      <td>NaN</td>\n",
       "      <td>NaN</td>\n",
       "      <td>NaN</td>\n",
       "      <td>NaN</td>\n",
       "      <td>NaN</td>\n",
       "    </tr>\n",
       "    <tr>\n",
       "      <th>2</th>\n",
       "      <td>176559</td>\n",
       "      <td>Bose SoundSport Headphones</td>\n",
       "      <td>1</td>\n",
       "      <td>99.99</td>\n",
       "      <td>04/07/19 22:30</td>\n",
       "      <td>682 Chestnut St, Boston, MA 02215</td>\n",
       "    </tr>\n",
       "    <tr>\n",
       "      <th>3</th>\n",
       "      <td>176560</td>\n",
       "      <td>Google Phone</td>\n",
       "      <td>1</td>\n",
       "      <td>600</td>\n",
       "      <td>04/12/19 14:38</td>\n",
       "      <td>669 Spruce St, Los Angeles, CA 90001</td>\n",
       "    </tr>\n",
       "    <tr>\n",
       "      <th>4</th>\n",
       "      <td>176560</td>\n",
       "      <td>Wired Headphones</td>\n",
       "      <td>1</td>\n",
       "      <td>11.99</td>\n",
       "      <td>04/12/19 14:38</td>\n",
       "      <td>669 Spruce St, Los Angeles, CA 90001</td>\n",
       "    </tr>\n",
       "    <tr>\n",
       "      <th>...</th>\n",
       "      <td>...</td>\n",
       "      <td>...</td>\n",
       "      <td>...</td>\n",
       "      <td>...</td>\n",
       "      <td>...</td>\n",
       "      <td>...</td>\n",
       "    </tr>\n",
       "    <tr>\n",
       "      <th>186845</th>\n",
       "      <td>259353</td>\n",
       "      <td>AAA Batteries (4-pack)</td>\n",
       "      <td>3</td>\n",
       "      <td>2.99</td>\n",
       "      <td>09/17/19 20:56</td>\n",
       "      <td>840 Highland St, Los Angeles, CA 90001</td>\n",
       "    </tr>\n",
       "    <tr>\n",
       "      <th>186846</th>\n",
       "      <td>259354</td>\n",
       "      <td>iPhone</td>\n",
       "      <td>1</td>\n",
       "      <td>700</td>\n",
       "      <td>09/01/19 16:00</td>\n",
       "      <td>216 Dogwood St, San Francisco, CA 94016</td>\n",
       "    </tr>\n",
       "    <tr>\n",
       "      <th>186847</th>\n",
       "      <td>259355</td>\n",
       "      <td>iPhone</td>\n",
       "      <td>1</td>\n",
       "      <td>700</td>\n",
       "      <td>09/23/19 07:39</td>\n",
       "      <td>220 12th St, San Francisco, CA 94016</td>\n",
       "    </tr>\n",
       "    <tr>\n",
       "      <th>186848</th>\n",
       "      <td>259356</td>\n",
       "      <td>34in Ultrawide Monitor</td>\n",
       "      <td>1</td>\n",
       "      <td>379.99</td>\n",
       "      <td>09/19/19 17:30</td>\n",
       "      <td>511 Forest St, San Francisco, CA 94016</td>\n",
       "    </tr>\n",
       "    <tr>\n",
       "      <th>186849</th>\n",
       "      <td>259357</td>\n",
       "      <td>USB-C Charging Cable</td>\n",
       "      <td>1</td>\n",
       "      <td>11.95</td>\n",
       "      <td>09/30/19 00:18</td>\n",
       "      <td>250 Meadow St, San Francisco, CA 94016</td>\n",
       "    </tr>\n",
       "  </tbody>\n",
       "</table>\n",
       "<p>186850 rows × 6 columns</p>\n",
       "</div>"
      ],
      "text/plain": [
       "       Order ID                     Product Quantity Ordered Price Each  \\\n",
       "0        176558        USB-C Charging Cable                2      11.95   \n",
       "1           NaN                         NaN              NaN        NaN   \n",
       "2        176559  Bose SoundSport Headphones                1      99.99   \n",
       "3        176560                Google Phone                1        600   \n",
       "4        176560            Wired Headphones                1      11.99   \n",
       "...         ...                         ...              ...        ...   \n",
       "186845   259353      AAA Batteries (4-pack)                3       2.99   \n",
       "186846   259354                      iPhone                1        700   \n",
       "186847   259355                      iPhone                1        700   \n",
       "186848   259356      34in Ultrawide Monitor                1     379.99   \n",
       "186849   259357        USB-C Charging Cable                1      11.95   \n",
       "\n",
       "            Order Date                         Purchase Address  \n",
       "0       04/19/19 08:46             917 1st St, Dallas, TX 75001  \n",
       "1                  NaN                                      NaN  \n",
       "2       04/07/19 22:30        682 Chestnut St, Boston, MA 02215  \n",
       "3       04/12/19 14:38     669 Spruce St, Los Angeles, CA 90001  \n",
       "4       04/12/19 14:38     669 Spruce St, Los Angeles, CA 90001  \n",
       "...                ...                                      ...  \n",
       "186845  09/17/19 20:56   840 Highland St, Los Angeles, CA 90001  \n",
       "186846  09/01/19 16:00  216 Dogwood St, San Francisco, CA 94016  \n",
       "186847  09/23/19 07:39     220 12th St, San Francisco, CA 94016  \n",
       "186848  09/19/19 17:30   511 Forest St, San Francisco, CA 94016  \n",
       "186849  09/30/19 00:18   250 Meadow St, San Francisco, CA 94016  \n",
       "\n",
       "[186850 rows x 6 columns]"
      ]
     },
     "execution_count": 2,
     "metadata": {},
     "output_type": "execute_result"
    }
   ],
   "source": [
    "sales_data = pd.read_csv('Sales_2019.csv') # read data\n",
    "sales_data # show data"
   ]
  },
  {
   "cell_type": "code",
   "execution_count": 3,
   "id": "026f427b",
   "metadata": {},
   "outputs": [
    {
     "name": "stdout",
     "output_type": "stream",
     "text": [
      "Head\n"
     ]
    },
    {
     "data": {
      "text/html": [
       "<div>\n",
       "<style scoped>\n",
       "    .dataframe tbody tr th:only-of-type {\n",
       "        vertical-align: middle;\n",
       "    }\n",
       "\n",
       "    .dataframe tbody tr th {\n",
       "        vertical-align: top;\n",
       "    }\n",
       "\n",
       "    .dataframe thead th {\n",
       "        text-align: right;\n",
       "    }\n",
       "</style>\n",
       "<table border=\"1\" class=\"dataframe\">\n",
       "  <thead>\n",
       "    <tr style=\"text-align: right;\">\n",
       "      <th></th>\n",
       "      <th>Order ID</th>\n",
       "      <th>Product</th>\n",
       "      <th>Quantity Ordered</th>\n",
       "      <th>Price Each</th>\n",
       "      <th>Order Date</th>\n",
       "      <th>Purchase Address</th>\n",
       "    </tr>\n",
       "  </thead>\n",
       "  <tbody>\n",
       "    <tr>\n",
       "      <th>0</th>\n",
       "      <td>176558</td>\n",
       "      <td>USB-C Charging Cable</td>\n",
       "      <td>2</td>\n",
       "      <td>11.95</td>\n",
       "      <td>04/19/19 08:46</td>\n",
       "      <td>917 1st St, Dallas, TX 75001</td>\n",
       "    </tr>\n",
       "    <tr>\n",
       "      <th>1</th>\n",
       "      <td>NaN</td>\n",
       "      <td>NaN</td>\n",
       "      <td>NaN</td>\n",
       "      <td>NaN</td>\n",
       "      <td>NaN</td>\n",
       "      <td>NaN</td>\n",
       "    </tr>\n",
       "    <tr>\n",
       "      <th>2</th>\n",
       "      <td>176559</td>\n",
       "      <td>Bose SoundSport Headphones</td>\n",
       "      <td>1</td>\n",
       "      <td>99.99</td>\n",
       "      <td>04/07/19 22:30</td>\n",
       "      <td>682 Chestnut St, Boston, MA 02215</td>\n",
       "    </tr>\n",
       "    <tr>\n",
       "      <th>3</th>\n",
       "      <td>176560</td>\n",
       "      <td>Google Phone</td>\n",
       "      <td>1</td>\n",
       "      <td>600</td>\n",
       "      <td>04/12/19 14:38</td>\n",
       "      <td>669 Spruce St, Los Angeles, CA 90001</td>\n",
       "    </tr>\n",
       "    <tr>\n",
       "      <th>4</th>\n",
       "      <td>176560</td>\n",
       "      <td>Wired Headphones</td>\n",
       "      <td>1</td>\n",
       "      <td>11.99</td>\n",
       "      <td>04/12/19 14:38</td>\n",
       "      <td>669 Spruce St, Los Angeles, CA 90001</td>\n",
       "    </tr>\n",
       "  </tbody>\n",
       "</table>\n",
       "</div>"
      ],
      "text/plain": [
       "  Order ID                     Product Quantity Ordered Price Each  \\\n",
       "0   176558        USB-C Charging Cable                2      11.95   \n",
       "1      NaN                         NaN              NaN        NaN   \n",
       "2   176559  Bose SoundSport Headphones                1      99.99   \n",
       "3   176560                Google Phone                1        600   \n",
       "4   176560            Wired Headphones                1      11.99   \n",
       "\n",
       "       Order Date                      Purchase Address  \n",
       "0  04/19/19 08:46          917 1st St, Dallas, TX 75001  \n",
       "1             NaN                                   NaN  \n",
       "2  04/07/19 22:30     682 Chestnut St, Boston, MA 02215  \n",
       "3  04/12/19 14:38  669 Spruce St, Los Angeles, CA 90001  \n",
       "4  04/12/19 14:38  669 Spruce St, Los Angeles, CA 90001  "
      ]
     },
     "execution_count": 3,
     "metadata": {},
     "output_type": "execute_result"
    }
   ],
   "source": [
    "print('Head')\n",
    "sales_data.head() # checking the first 5 rows of data"
   ]
  },
  {
   "cell_type": "code",
   "execution_count": 4,
   "id": "58dec057",
   "metadata": {},
   "outputs": [
    {
     "name": "stdout",
     "output_type": "stream",
     "text": [
      "Tail\n"
     ]
    },
    {
     "data": {
      "text/html": [
       "<div>\n",
       "<style scoped>\n",
       "    .dataframe tbody tr th:only-of-type {\n",
       "        vertical-align: middle;\n",
       "    }\n",
       "\n",
       "    .dataframe tbody tr th {\n",
       "        vertical-align: top;\n",
       "    }\n",
       "\n",
       "    .dataframe thead th {\n",
       "        text-align: right;\n",
       "    }\n",
       "</style>\n",
       "<table border=\"1\" class=\"dataframe\">\n",
       "  <thead>\n",
       "    <tr style=\"text-align: right;\">\n",
       "      <th></th>\n",
       "      <th>Order ID</th>\n",
       "      <th>Product</th>\n",
       "      <th>Quantity Ordered</th>\n",
       "      <th>Price Each</th>\n",
       "      <th>Order Date</th>\n",
       "      <th>Purchase Address</th>\n",
       "    </tr>\n",
       "  </thead>\n",
       "  <tbody>\n",
       "    <tr>\n",
       "      <th>186845</th>\n",
       "      <td>259353</td>\n",
       "      <td>AAA Batteries (4-pack)</td>\n",
       "      <td>3</td>\n",
       "      <td>2.99</td>\n",
       "      <td>09/17/19 20:56</td>\n",
       "      <td>840 Highland St, Los Angeles, CA 90001</td>\n",
       "    </tr>\n",
       "    <tr>\n",
       "      <th>186846</th>\n",
       "      <td>259354</td>\n",
       "      <td>iPhone</td>\n",
       "      <td>1</td>\n",
       "      <td>700</td>\n",
       "      <td>09/01/19 16:00</td>\n",
       "      <td>216 Dogwood St, San Francisco, CA 94016</td>\n",
       "    </tr>\n",
       "    <tr>\n",
       "      <th>186847</th>\n",
       "      <td>259355</td>\n",
       "      <td>iPhone</td>\n",
       "      <td>1</td>\n",
       "      <td>700</td>\n",
       "      <td>09/23/19 07:39</td>\n",
       "      <td>220 12th St, San Francisco, CA 94016</td>\n",
       "    </tr>\n",
       "    <tr>\n",
       "      <th>186848</th>\n",
       "      <td>259356</td>\n",
       "      <td>34in Ultrawide Monitor</td>\n",
       "      <td>1</td>\n",
       "      <td>379.99</td>\n",
       "      <td>09/19/19 17:30</td>\n",
       "      <td>511 Forest St, San Francisco, CA 94016</td>\n",
       "    </tr>\n",
       "    <tr>\n",
       "      <th>186849</th>\n",
       "      <td>259357</td>\n",
       "      <td>USB-C Charging Cable</td>\n",
       "      <td>1</td>\n",
       "      <td>11.95</td>\n",
       "      <td>09/30/19 00:18</td>\n",
       "      <td>250 Meadow St, San Francisco, CA 94016</td>\n",
       "    </tr>\n",
       "  </tbody>\n",
       "</table>\n",
       "</div>"
      ],
      "text/plain": [
       "       Order ID                 Product Quantity Ordered Price Each  \\\n",
       "186845   259353  AAA Batteries (4-pack)                3       2.99   \n",
       "186846   259354                  iPhone                1        700   \n",
       "186847   259355                  iPhone                1        700   \n",
       "186848   259356  34in Ultrawide Monitor                1     379.99   \n",
       "186849   259357    USB-C Charging Cable                1      11.95   \n",
       "\n",
       "            Order Date                         Purchase Address  \n",
       "186845  09/17/19 20:56   840 Highland St, Los Angeles, CA 90001  \n",
       "186846  09/01/19 16:00  216 Dogwood St, San Francisco, CA 94016  \n",
       "186847  09/23/19 07:39     220 12th St, San Francisco, CA 94016  \n",
       "186848  09/19/19 17:30   511 Forest St, San Francisco, CA 94016  \n",
       "186849  09/30/19 00:18   250 Meadow St, San Francisco, CA 94016  "
      ]
     },
     "execution_count": 4,
     "metadata": {},
     "output_type": "execute_result"
    }
   ],
   "source": [
    "print('Tail')\n",
    "sales_data.tail() # checking the last 5 rows of data"
   ]
  },
  {
   "cell_type": "markdown",
   "id": "2bbc51a8",
   "metadata": {},
   "source": [
    "Looks like there's some missing value / NaN (ex: 'Head' row 2), so there's some work to do in Data Preprocessing."
   ]
  },
  {
   "cell_type": "markdown",
   "id": "9b96f55a",
   "metadata": {},
   "source": [
    "# Data Preprocessing"
   ]
  },
  {
   "cell_type": "code",
   "execution_count": 5,
   "id": "a9eff21c",
   "metadata": {},
   "outputs": [
    {
     "name": "stdout",
     "output_type": "stream",
     "text": [
      "<class 'pandas.core.frame.DataFrame'>\n",
      "RangeIndex: 186850 entries, 0 to 186849\n",
      "Data columns (total 6 columns):\n",
      " #   Column            Non-Null Count   Dtype \n",
      "---  ------            --------------   ----- \n",
      " 0   Order ID          186305 non-null  object\n",
      " 1   Product           186305 non-null  object\n",
      " 2   Quantity Ordered  186305 non-null  object\n",
      " 3   Price Each        186305 non-null  object\n",
      " 4   Order Date        186305 non-null  object\n",
      " 5   Purchase Address  186305 non-null  object\n",
      "dtypes: object(6)\n",
      "memory usage: 8.6+ MB\n"
     ]
    }
   ],
   "source": [
    "# Getting basic information about the data\n",
    "sales_data.info()"
   ]
  },
  {
   "cell_type": "markdown",
   "id": "20e08b56",
   "metadata": {},
   "source": [
    "## Unique Value(s) from Each Category"
   ]
  },
  {
   "cell_type": "code",
   "execution_count": 6,
   "id": "232beb8a",
   "metadata": {
    "scrolled": true
   },
   "outputs": [
    {
     "data": {
      "text/plain": [
       "Index(['Order ID', 'Product', 'Quantity Ordered', 'Price Each', 'Order Date',\n",
       "       'Purchase Address'],\n",
       "      dtype='object')"
      ]
     },
     "execution_count": 6,
     "metadata": {},
     "output_type": "execute_result"
    }
   ],
   "source": [
    "sales_data.columns # listing data columns"
   ]
  },
  {
   "cell_type": "code",
   "execution_count": 7,
   "id": "e627507a",
   "metadata": {},
   "outputs": [
    {
     "data": {
      "text/html": [
       "<div>\n",
       "<style scoped>\n",
       "    .dataframe tbody tr th:only-of-type {\n",
       "        vertical-align: middle;\n",
       "    }\n",
       "\n",
       "    .dataframe tbody tr th {\n",
       "        vertical-align: top;\n",
       "    }\n",
       "\n",
       "    .dataframe thead th {\n",
       "        text-align: right;\n",
       "    }\n",
       "</style>\n",
       "<table border=\"1\" class=\"dataframe\">\n",
       "  <thead>\n",
       "    <tr style=\"text-align: right;\">\n",
       "      <th></th>\n",
       "      <th>Order ID</th>\n",
       "      <th>Product</th>\n",
       "      <th>Quantity Ordered</th>\n",
       "      <th>Price Each</th>\n",
       "      <th>Order Date</th>\n",
       "      <th>Purchase Address</th>\n",
       "    </tr>\n",
       "  </thead>\n",
       "  <tbody>\n",
       "    <tr>\n",
       "      <th>count</th>\n",
       "      <td>186305</td>\n",
       "      <td>186305</td>\n",
       "      <td>186305</td>\n",
       "      <td>186305</td>\n",
       "      <td>186305</td>\n",
       "      <td>186305</td>\n",
       "    </tr>\n",
       "    <tr>\n",
       "      <th>unique</th>\n",
       "      <td>178438</td>\n",
       "      <td>20</td>\n",
       "      <td>10</td>\n",
       "      <td>24</td>\n",
       "      <td>142396</td>\n",
       "      <td>140788</td>\n",
       "    </tr>\n",
       "    <tr>\n",
       "      <th>top</th>\n",
       "      <td>Order ID</td>\n",
       "      <td>USB-C Charging Cable</td>\n",
       "      <td>1</td>\n",
       "      <td>11.95</td>\n",
       "      <td>Order Date</td>\n",
       "      <td>Purchase Address</td>\n",
       "    </tr>\n",
       "    <tr>\n",
       "      <th>freq</th>\n",
       "      <td>355</td>\n",
       "      <td>21903</td>\n",
       "      <td>168552</td>\n",
       "      <td>21903</td>\n",
       "      <td>355</td>\n",
       "      <td>355</td>\n",
       "    </tr>\n",
       "  </tbody>\n",
       "</table>\n",
       "</div>"
      ],
      "text/plain": [
       "        Order ID               Product Quantity Ordered Price Each  \\\n",
       "count     186305                186305           186305     186305   \n",
       "unique    178438                    20               10         24   \n",
       "top     Order ID  USB-C Charging Cable                1      11.95   \n",
       "freq         355                 21903           168552      21903   \n",
       "\n",
       "        Order Date  Purchase Address  \n",
       "count       186305            186305  \n",
       "unique      142396            140788  \n",
       "top     Order Date  Purchase Address  \n",
       "freq           355               355  "
      ]
     },
     "execution_count": 7,
     "metadata": {},
     "output_type": "execute_result"
    }
   ],
   "source": [
    "# Getting unique values from each category\n",
    "sales_data[['Order ID', 'Product', 'Quantity Ordered', 'Price Each', 'Order Date', 'Purchase Address']].describe()"
   ]
  },
  {
   "cell_type": "markdown",
   "id": "7b739fce",
   "metadata": {},
   "source": [
    "So, we have:\n",
    "* __Order ID__ : 178438 unique value(s)\n",
    "* __Product__ : 20 unique value(s)\n",
    "* __Quantity Ordered__ : 20 unique value(s)\n",
    "* __Price Each__ : 10 unique value(s)\n",
    "* __Order Date__ : 142396 unique value(s)\n",
    "* __Purchase Address__ : 140788 unique value(s)"
   ]
  },
  {
   "cell_type": "markdown",
   "id": "3176e488",
   "metadata": {},
   "source": [
    "## Missing Value(s)\n",
    "We already know that we do have some missing values. But, we want to know how many missing values we have in each column."
   ]
  },
  {
   "cell_type": "code",
   "execution_count": 8,
   "id": "5fa50dc2",
   "metadata": {},
   "outputs": [
    {
     "data": {
      "text/html": [
       "<div>\n",
       "<style scoped>\n",
       "    .dataframe tbody tr th:only-of-type {\n",
       "        vertical-align: middle;\n",
       "    }\n",
       "\n",
       "    .dataframe tbody tr th {\n",
       "        vertical-align: top;\n",
       "    }\n",
       "\n",
       "    .dataframe thead th {\n",
       "        text-align: right;\n",
       "    }\n",
       "</style>\n",
       "<table border=\"1\" class=\"dataframe\">\n",
       "  <thead>\n",
       "    <tr style=\"text-align: right;\">\n",
       "      <th></th>\n",
       "      <th>Order ID</th>\n",
       "      <th>Product</th>\n",
       "      <th>Quantity Ordered</th>\n",
       "      <th>Price Each</th>\n",
       "      <th>Order Date</th>\n",
       "      <th>Purchase Address</th>\n",
       "    </tr>\n",
       "  </thead>\n",
       "  <tbody>\n",
       "    <tr>\n",
       "      <th>1</th>\n",
       "      <td>NaN</td>\n",
       "      <td>NaN</td>\n",
       "      <td>NaN</td>\n",
       "      <td>NaN</td>\n",
       "      <td>NaN</td>\n",
       "      <td>NaN</td>\n",
       "    </tr>\n",
       "    <tr>\n",
       "      <th>356</th>\n",
       "      <td>NaN</td>\n",
       "      <td>NaN</td>\n",
       "      <td>NaN</td>\n",
       "      <td>NaN</td>\n",
       "      <td>NaN</td>\n",
       "      <td>NaN</td>\n",
       "    </tr>\n",
       "    <tr>\n",
       "      <th>735</th>\n",
       "      <td>NaN</td>\n",
       "      <td>NaN</td>\n",
       "      <td>NaN</td>\n",
       "      <td>NaN</td>\n",
       "      <td>NaN</td>\n",
       "      <td>NaN</td>\n",
       "    </tr>\n",
       "    <tr>\n",
       "      <th>1433</th>\n",
       "      <td>NaN</td>\n",
       "      <td>NaN</td>\n",
       "      <td>NaN</td>\n",
       "      <td>NaN</td>\n",
       "      <td>NaN</td>\n",
       "      <td>NaN</td>\n",
       "    </tr>\n",
       "    <tr>\n",
       "      <th>1553</th>\n",
       "      <td>NaN</td>\n",
       "      <td>NaN</td>\n",
       "      <td>NaN</td>\n",
       "      <td>NaN</td>\n",
       "      <td>NaN</td>\n",
       "      <td>NaN</td>\n",
       "    </tr>\n",
       "    <tr>\n",
       "      <th>...</th>\n",
       "      <td>...</td>\n",
       "      <td>...</td>\n",
       "      <td>...</td>\n",
       "      <td>...</td>\n",
       "      <td>...</td>\n",
       "      <td>...</td>\n",
       "    </tr>\n",
       "    <tr>\n",
       "      <th>185176</th>\n",
       "      <td>NaN</td>\n",
       "      <td>NaN</td>\n",
       "      <td>NaN</td>\n",
       "      <td>NaN</td>\n",
       "      <td>NaN</td>\n",
       "      <td>NaN</td>\n",
       "    </tr>\n",
       "    <tr>\n",
       "      <th>185438</th>\n",
       "      <td>NaN</td>\n",
       "      <td>NaN</td>\n",
       "      <td>NaN</td>\n",
       "      <td>NaN</td>\n",
       "      <td>NaN</td>\n",
       "      <td>NaN</td>\n",
       "    </tr>\n",
       "    <tr>\n",
       "      <th>186042</th>\n",
       "      <td>NaN</td>\n",
       "      <td>NaN</td>\n",
       "      <td>NaN</td>\n",
       "      <td>NaN</td>\n",
       "      <td>NaN</td>\n",
       "      <td>NaN</td>\n",
       "    </tr>\n",
       "    <tr>\n",
       "      <th>186548</th>\n",
       "      <td>NaN</td>\n",
       "      <td>NaN</td>\n",
       "      <td>NaN</td>\n",
       "      <td>NaN</td>\n",
       "      <td>NaN</td>\n",
       "      <td>NaN</td>\n",
       "    </tr>\n",
       "    <tr>\n",
       "      <th>186826</th>\n",
       "      <td>NaN</td>\n",
       "      <td>NaN</td>\n",
       "      <td>NaN</td>\n",
       "      <td>NaN</td>\n",
       "      <td>NaN</td>\n",
       "      <td>NaN</td>\n",
       "    </tr>\n",
       "  </tbody>\n",
       "</table>\n",
       "<p>545 rows × 6 columns</p>\n",
       "</div>"
      ],
      "text/plain": [
       "       Order ID Product Quantity Ordered Price Each Order Date  \\\n",
       "1           NaN     NaN              NaN        NaN        NaN   \n",
       "356         NaN     NaN              NaN        NaN        NaN   \n",
       "735         NaN     NaN              NaN        NaN        NaN   \n",
       "1433        NaN     NaN              NaN        NaN        NaN   \n",
       "1553        NaN     NaN              NaN        NaN        NaN   \n",
       "...         ...     ...              ...        ...        ...   \n",
       "185176      NaN     NaN              NaN        NaN        NaN   \n",
       "185438      NaN     NaN              NaN        NaN        NaN   \n",
       "186042      NaN     NaN              NaN        NaN        NaN   \n",
       "186548      NaN     NaN              NaN        NaN        NaN   \n",
       "186826      NaN     NaN              NaN        NaN        NaN   \n",
       "\n",
       "       Purchase Address  \n",
       "1                   NaN  \n",
       "356                 NaN  \n",
       "735                 NaN  \n",
       "1433                NaN  \n",
       "1553                NaN  \n",
       "...                 ...  \n",
       "185176              NaN  \n",
       "185438              NaN  \n",
       "186042              NaN  \n",
       "186548              NaN  \n",
       "186826              NaN  \n",
       "\n",
       "[545 rows x 6 columns]"
      ]
     },
     "execution_count": 8,
     "metadata": {},
     "output_type": "execute_result"
    }
   ],
   "source": [
    "sales_data[sales_data.isna().any(axis='columns')] #checking NaN values"
   ]
  },
  {
   "cell_type": "code",
   "execution_count": 9,
   "id": "ce7ddc6a",
   "metadata": {},
   "outputs": [
    {
     "data": {
      "text/plain": [
       "Order ID            545\n",
       "Product             545\n",
       "Quantity Ordered    545\n",
       "Price Each          545\n",
       "Order Date          545\n",
       "Purchase Address    545\n",
       "dtype: int64"
      ]
     },
     "execution_count": 9,
     "metadata": {},
     "output_type": "execute_result"
    }
   ],
   "source": [
    "# Getting the number of missing data per column\n",
    "missing_values_count = sales_data.isnull().sum()\n",
    "missing_values_count"
   ]
  },
  {
   "cell_type": "markdown",
   "id": "03ef63a0",
   "metadata": {},
   "source": [
    "We've got __545 missing values__ for each column (there are 545 rows with missing values)."
   ]
  },
  {
   "cell_type": "markdown",
   "id": "130b94a9",
   "metadata": {},
   "source": [
    "### Percentage of Missing Values"
   ]
  },
  {
   "cell_type": "code",
   "execution_count": 10,
   "id": "6d095d40",
   "metadata": {},
   "outputs": [
    {
     "data": {
      "text/html": [
       "<div>\n",
       "<style scoped>\n",
       "    .dataframe tbody tr th:only-of-type {\n",
       "        vertical-align: middle;\n",
       "    }\n",
       "\n",
       "    .dataframe tbody tr th {\n",
       "        vertical-align: top;\n",
       "    }\n",
       "\n",
       "    .dataframe thead th {\n",
       "        text-align: right;\n",
       "    }\n",
       "</style>\n",
       "<table border=\"1\" class=\"dataframe\">\n",
       "  <thead>\n",
       "    <tr style=\"text-align: right;\">\n",
       "      <th></th>\n",
       "      <th>% of Missing Values</th>\n",
       "    </tr>\n",
       "  </thead>\n",
       "  <tbody>\n",
       "    <tr>\n",
       "      <th>Order ID</th>\n",
       "      <td>0.29</td>\n",
       "    </tr>\n",
       "    <tr>\n",
       "      <th>Product</th>\n",
       "      <td>0.29</td>\n",
       "    </tr>\n",
       "    <tr>\n",
       "      <th>Quantity Ordered</th>\n",
       "      <td>0.29</td>\n",
       "    </tr>\n",
       "    <tr>\n",
       "      <th>Price Each</th>\n",
       "      <td>0.29</td>\n",
       "    </tr>\n",
       "    <tr>\n",
       "      <th>Order Date</th>\n",
       "      <td>0.29</td>\n",
       "    </tr>\n",
       "    <tr>\n",
       "      <th>Purchase Address</th>\n",
       "      <td>0.29</td>\n",
       "    </tr>\n",
       "  </tbody>\n",
       "</table>\n",
       "</div>"
      ],
      "text/plain": [
       "                  % of Missing Values\n",
       "Order ID                         0.29\n",
       "Product                          0.29\n",
       "Quantity Ordered                 0.29\n",
       "Price Each                       0.29\n",
       "Order Date                       0.29\n",
       "Purchase Address                 0.29"
      ]
     },
     "execution_count": 10,
     "metadata": {},
     "output_type": "execute_result"
    }
   ],
   "source": [
    "percent_missing = (sales_data.isnull().sum() / len(sales_data) * 100).round(2)\n",
    "df_missing = pd.DataFrame({'% of Missing Values' :percent_missing})\n",
    "df_missing"
   ]
  },
  {
   "cell_type": "markdown",
   "id": "7148c2ee",
   "metadata": {},
   "source": [
    "It looks like the missing values are only a tiny piece of our data __(0,29 %)__, so it will not affect much. In this case, let's just drop the missing value."
   ]
  },
  {
   "cell_type": "markdown",
   "id": "58e43820",
   "metadata": {},
   "source": [
    "## Cleaning Data"
   ]
  },
  {
   "cell_type": "code",
   "execution_count": 11,
   "id": "d5214c3e",
   "metadata": {},
   "outputs": [],
   "source": [
    "sales_data=sales_data.dropna(how='all') # drop the row when ALL values are NULL"
   ]
  },
  {
   "cell_type": "code",
   "execution_count": 12,
   "id": "9671893c",
   "metadata": {},
   "outputs": [
    {
     "data": {
      "text/html": [
       "<div>\n",
       "<style scoped>\n",
       "    .dataframe tbody tr th:only-of-type {\n",
       "        vertical-align: middle;\n",
       "    }\n",
       "\n",
       "    .dataframe tbody tr th {\n",
       "        vertical-align: top;\n",
       "    }\n",
       "\n",
       "    .dataframe thead th {\n",
       "        text-align: right;\n",
       "    }\n",
       "</style>\n",
       "<table border=\"1\" class=\"dataframe\">\n",
       "  <thead>\n",
       "    <tr style=\"text-align: right;\">\n",
       "      <th></th>\n",
       "      <th>Order ID</th>\n",
       "      <th>Product</th>\n",
       "      <th>Quantity Ordered</th>\n",
       "      <th>Price Each</th>\n",
       "      <th>Order Date</th>\n",
       "      <th>Purchase Address</th>\n",
       "    </tr>\n",
       "  </thead>\n",
       "  <tbody>\n",
       "  </tbody>\n",
       "</table>\n",
       "</div>"
      ],
      "text/plain": [
       "Empty DataFrame\n",
       "Columns: [Order ID, Product, Quantity Ordered, Price Each, Order Date, Purchase Address]\n",
       "Index: []"
      ]
     },
     "execution_count": 12,
     "metadata": {},
     "output_type": "execute_result"
    }
   ],
   "source": [
    "#Checking cleaned data\n",
    "sales_data[sales_data.isna().any(axis='columns')]"
   ]
  },
  {
   "cell_type": "code",
   "execution_count": 13,
   "id": "baf0090a",
   "metadata": {},
   "outputs": [
    {
     "data": {
      "text/plain": [
       "Order ID            0\n",
       "Product             0\n",
       "Quantity Ordered    0\n",
       "Price Each          0\n",
       "Order Date          0\n",
       "Purchase Address    0\n",
       "dtype: int64"
      ]
     },
     "execution_count": 13,
     "metadata": {},
     "output_type": "execute_result"
    }
   ],
   "source": [
    "sales_data.isna().sum()"
   ]
  },
  {
   "cell_type": "markdown",
   "id": "e66e2cf0",
   "metadata": {},
   "source": [
    "Now, all the missing data has been removed."
   ]
  },
  {
   "cell_type": "markdown",
   "id": "1f661411",
   "metadata": {},
   "source": [
    "## Changing Data Type "
   ]
  },
  {
   "cell_type": "code",
   "execution_count": 14,
   "id": "f6143a27",
   "metadata": {},
   "outputs": [
    {
     "name": "stdout",
     "output_type": "stream",
     "text": [
      "<class 'pandas.core.frame.DataFrame'>\n",
      "Int64Index: 186305 entries, 0 to 186849\n",
      "Data columns (total 6 columns):\n",
      " #   Column            Non-Null Count   Dtype \n",
      "---  ------            --------------   ----- \n",
      " 0   Order ID          186305 non-null  object\n",
      " 1   Product           186305 non-null  object\n",
      " 2   Quantity Ordered  186305 non-null  object\n",
      " 3   Price Each        186305 non-null  object\n",
      " 4   Order Date        186305 non-null  object\n",
      " 5   Purchase Address  186305 non-null  object\n",
      "dtypes: object(6)\n",
      "memory usage: 9.9+ MB\n"
     ]
    }
   ],
   "source": [
    "sales_data.info()"
   ]
  },
  {
   "cell_type": "code",
   "execution_count": 15,
   "id": "c2e59bd6",
   "metadata": {},
   "outputs": [
    {
     "data": {
      "text/plain": [
       "array(['2', '1', '3', '5', 'Quantity Ordered', '4', '7', '6', '8', '9'],\n",
       "      dtype=object)"
      ]
     },
     "execution_count": 15,
     "metadata": {},
     "output_type": "execute_result"
    }
   ],
   "source": [
    "# We have a problem with the data that has text repetition\n",
    "sales_data['Quantity Ordered'].unique()"
   ]
  },
  {
   "cell_type": "code",
   "execution_count": 16,
   "id": "d89532ad",
   "metadata": {},
   "outputs": [],
   "source": [
    "# Creating filter to drop text values\n",
    "filter_text = sales_data['Quantity Ordered'] != 'Quantity Ordered'\n",
    "\n",
    "# Replacing data without text values in quantity ordered\n",
    "sales_data = sales_data[filter_text]"
   ]
  },
  {
   "cell_type": "code",
   "execution_count": 17,
   "id": "a9efce7c",
   "metadata": {},
   "outputs": [
    {
     "data": {
      "text/plain": [
       "array(['2', '1', '3', '5', '4', '7', '6', '8', '9'], dtype=object)"
      ]
     },
     "execution_count": 17,
     "metadata": {},
     "output_type": "execute_result"
    }
   ],
   "source": [
    "sales_data['Quantity Ordered'].unique()"
   ]
  },
  {
   "cell_type": "markdown",
   "id": "022982e3",
   "metadata": {},
   "source": [
    "Now, the data has no text repetition."
   ]
  },
  {
   "cell_type": "markdown",
   "id": "2d99fb39",
   "metadata": {},
   "source": [
    "### Changing 'Quantity Ordered' and 'Price Each' Data Type"
   ]
  },
  {
   "cell_type": "code",
   "execution_count": 18,
   "id": "98b42957",
   "metadata": {},
   "outputs": [
    {
     "name": "stdout",
     "output_type": "stream",
     "text": [
      "<class 'pandas.core.frame.DataFrame'>\n",
      "Int64Index: 185950 entries, 0 to 186849\n",
      "Data columns (total 6 columns):\n",
      " #   Column            Non-Null Count   Dtype  \n",
      "---  ------            --------------   -----  \n",
      " 0   Order ID          185950 non-null  object \n",
      " 1   Product           185950 non-null  object \n",
      " 2   Quantity Ordered  185950 non-null  int64  \n",
      " 3   Price Each        185950 non-null  float64\n",
      " 4   Order Date        185950 non-null  object \n",
      " 5   Purchase Address  185950 non-null  object \n",
      "dtypes: float64(1), int64(1), object(4)\n",
      "memory usage: 9.9+ MB\n"
     ]
    }
   ],
   "source": [
    "# Convert the 'Quantity Ordered' and 'Price Each' data type to numeric data type (int and float)\n",
    "sales_data['Quantity Ordered'], sales_data['Price Each'] = sales_data['Quantity Ordered'].astype('int64'), sales_data['Price Each'].astype('float')\n",
    "sales_data.info()"
   ]
  },
  {
   "cell_type": "markdown",
   "id": "ce560ec1",
   "metadata": {},
   "source": [
    "### Changing 'Order Date' Data Type"
   ]
  },
  {
   "cell_type": "code",
   "execution_count": 19,
   "id": "5a56c5f2",
   "metadata": {},
   "outputs": [
    {
     "data": {
      "text/html": [
       "<div>\n",
       "<style scoped>\n",
       "    .dataframe tbody tr th:only-of-type {\n",
       "        vertical-align: middle;\n",
       "    }\n",
       "\n",
       "    .dataframe tbody tr th {\n",
       "        vertical-align: top;\n",
       "    }\n",
       "\n",
       "    .dataframe thead th {\n",
       "        text-align: right;\n",
       "    }\n",
       "</style>\n",
       "<table border=\"1\" class=\"dataframe\">\n",
       "  <thead>\n",
       "    <tr style=\"text-align: right;\">\n",
       "      <th></th>\n",
       "      <th>Order ID</th>\n",
       "      <th>Product</th>\n",
       "      <th>Quantity Ordered</th>\n",
       "      <th>Price Each</th>\n",
       "      <th>Order Date</th>\n",
       "      <th>Purchase Address</th>\n",
       "    </tr>\n",
       "  </thead>\n",
       "  <tbody>\n",
       "    <tr>\n",
       "      <th>0</th>\n",
       "      <td>176558</td>\n",
       "      <td>USB-C Charging Cable</td>\n",
       "      <td>2</td>\n",
       "      <td>11.95</td>\n",
       "      <td>2019-04-19 08:46:00</td>\n",
       "      <td>917 1st St, Dallas, TX 75001</td>\n",
       "    </tr>\n",
       "    <tr>\n",
       "      <th>2</th>\n",
       "      <td>176559</td>\n",
       "      <td>Bose SoundSport Headphones</td>\n",
       "      <td>1</td>\n",
       "      <td>99.99</td>\n",
       "      <td>2019-04-07 22:30:00</td>\n",
       "      <td>682 Chestnut St, Boston, MA 02215</td>\n",
       "    </tr>\n",
       "    <tr>\n",
       "      <th>3</th>\n",
       "      <td>176560</td>\n",
       "      <td>Google Phone</td>\n",
       "      <td>1</td>\n",
       "      <td>600.00</td>\n",
       "      <td>2019-04-12 14:38:00</td>\n",
       "      <td>669 Spruce St, Los Angeles, CA 90001</td>\n",
       "    </tr>\n",
       "    <tr>\n",
       "      <th>4</th>\n",
       "      <td>176560</td>\n",
       "      <td>Wired Headphones</td>\n",
       "      <td>1</td>\n",
       "      <td>11.99</td>\n",
       "      <td>2019-04-12 14:38:00</td>\n",
       "      <td>669 Spruce St, Los Angeles, CA 90001</td>\n",
       "    </tr>\n",
       "    <tr>\n",
       "      <th>5</th>\n",
       "      <td>176561</td>\n",
       "      <td>Wired Headphones</td>\n",
       "      <td>1</td>\n",
       "      <td>11.99</td>\n",
       "      <td>2019-04-30 09:27:00</td>\n",
       "      <td>333 8th St, Los Angeles, CA 90001</td>\n",
       "    </tr>\n",
       "    <tr>\n",
       "      <th>...</th>\n",
       "      <td>...</td>\n",
       "      <td>...</td>\n",
       "      <td>...</td>\n",
       "      <td>...</td>\n",
       "      <td>...</td>\n",
       "      <td>...</td>\n",
       "    </tr>\n",
       "    <tr>\n",
       "      <th>186845</th>\n",
       "      <td>259353</td>\n",
       "      <td>AAA Batteries (4-pack)</td>\n",
       "      <td>3</td>\n",
       "      <td>2.99</td>\n",
       "      <td>2019-09-17 20:56:00</td>\n",
       "      <td>840 Highland St, Los Angeles, CA 90001</td>\n",
       "    </tr>\n",
       "    <tr>\n",
       "      <th>186846</th>\n",
       "      <td>259354</td>\n",
       "      <td>iPhone</td>\n",
       "      <td>1</td>\n",
       "      <td>700.00</td>\n",
       "      <td>2019-09-01 16:00:00</td>\n",
       "      <td>216 Dogwood St, San Francisco, CA 94016</td>\n",
       "    </tr>\n",
       "    <tr>\n",
       "      <th>186847</th>\n",
       "      <td>259355</td>\n",
       "      <td>iPhone</td>\n",
       "      <td>1</td>\n",
       "      <td>700.00</td>\n",
       "      <td>2019-09-23 07:39:00</td>\n",
       "      <td>220 12th St, San Francisco, CA 94016</td>\n",
       "    </tr>\n",
       "    <tr>\n",
       "      <th>186848</th>\n",
       "      <td>259356</td>\n",
       "      <td>34in Ultrawide Monitor</td>\n",
       "      <td>1</td>\n",
       "      <td>379.99</td>\n",
       "      <td>2019-09-19 17:30:00</td>\n",
       "      <td>511 Forest St, San Francisco, CA 94016</td>\n",
       "    </tr>\n",
       "    <tr>\n",
       "      <th>186849</th>\n",
       "      <td>259357</td>\n",
       "      <td>USB-C Charging Cable</td>\n",
       "      <td>1</td>\n",
       "      <td>11.95</td>\n",
       "      <td>2019-09-30 00:18:00</td>\n",
       "      <td>250 Meadow St, San Francisco, CA 94016</td>\n",
       "    </tr>\n",
       "  </tbody>\n",
       "</table>\n",
       "<p>185950 rows × 6 columns</p>\n",
       "</div>"
      ],
      "text/plain": [
       "       Order ID                     Product  Quantity Ordered  Price Each  \\\n",
       "0        176558        USB-C Charging Cable                 2       11.95   \n",
       "2        176559  Bose SoundSport Headphones                 1       99.99   \n",
       "3        176560                Google Phone                 1      600.00   \n",
       "4        176560            Wired Headphones                 1       11.99   \n",
       "5        176561            Wired Headphones                 1       11.99   \n",
       "...         ...                         ...               ...         ...   \n",
       "186845   259353      AAA Batteries (4-pack)                 3        2.99   \n",
       "186846   259354                      iPhone                 1      700.00   \n",
       "186847   259355                      iPhone                 1      700.00   \n",
       "186848   259356      34in Ultrawide Monitor                 1      379.99   \n",
       "186849   259357        USB-C Charging Cable                 1       11.95   \n",
       "\n",
       "                Order Date                         Purchase Address  \n",
       "0      2019-04-19 08:46:00             917 1st St, Dallas, TX 75001  \n",
       "2      2019-04-07 22:30:00        682 Chestnut St, Boston, MA 02215  \n",
       "3      2019-04-12 14:38:00     669 Spruce St, Los Angeles, CA 90001  \n",
       "4      2019-04-12 14:38:00     669 Spruce St, Los Angeles, CA 90001  \n",
       "5      2019-04-30 09:27:00        333 8th St, Los Angeles, CA 90001  \n",
       "...                    ...                                      ...  \n",
       "186845 2019-09-17 20:56:00   840 Highland St, Los Angeles, CA 90001  \n",
       "186846 2019-09-01 16:00:00  216 Dogwood St, San Francisco, CA 94016  \n",
       "186847 2019-09-23 07:39:00     220 12th St, San Francisco, CA 94016  \n",
       "186848 2019-09-19 17:30:00   511 Forest St, San Francisco, CA 94016  \n",
       "186849 2019-09-30 00:18:00   250 Meadow St, San Francisco, CA 94016  \n",
       "\n",
       "[185950 rows x 6 columns]"
      ]
     },
     "execution_count": 19,
     "metadata": {},
     "output_type": "execute_result"
    }
   ],
   "source": [
    "sales_data['Order Date'] = pd.to_datetime(sales_data['Order Date']) # change to date-time type data\n",
    "sales_data"
   ]
  },
  {
   "cell_type": "markdown",
   "id": "14cd319f",
   "metadata": {},
   "source": [
    "## Adding Month, Hour, Minute, Revenue, and City Column"
   ]
  },
  {
   "cell_type": "code",
   "execution_count": 20,
   "id": "a2fb1354",
   "metadata": {},
   "outputs": [],
   "source": [
    "# Create Year, Month, Hour, Minute Column\n",
    "sales_data['Year'] = sales_data['Order Date'].dt.year\n",
    "sales_data['Month'] = sales_data['Order Date'].dt.month\n",
    "sales_data['Hour'] = sales_data['Order Date'].dt.hour\n",
    "sales_data['Minute'] = sales_data['Order Date'].dt.minute"
   ]
  },
  {
   "cell_type": "code",
   "execution_count": 21,
   "id": "9430df34",
   "metadata": {},
   "outputs": [],
   "source": [
    "# Create Revenue Column\n",
    "sales_data['Revenue'] = sales_data['Price Each'] * sales_data['Quantity Ordered']"
   ]
  },
  {
   "cell_type": "code",
   "execution_count": 22,
   "id": "5924fbf4",
   "metadata": {},
   "outputs": [
    {
     "data": {
      "text/plain": [
       "0                Dallas\n",
       "2                Boston\n",
       "3           Los Angeles\n",
       "4           Los Angeles\n",
       "5           Los Angeles\n",
       "              ...      \n",
       "186845      Los Angeles\n",
       "186846    San Francisco\n",
       "186847    San Francisco\n",
       "186848    San Francisco\n",
       "186849    San Francisco\n",
       "Name: 1, Length: 185950, dtype: object"
      ]
     },
     "execution_count": 22,
     "metadata": {},
     "output_type": "execute_result"
    }
   ],
   "source": [
    "# Get City name from 'Purchase Address'\n",
    "city = sales_data['Purchase Address'].str.split(\", \",expand=True)[1]\n",
    "city"
   ]
  },
  {
   "cell_type": "code",
   "execution_count": 23,
   "id": "2826e184",
   "metadata": {},
   "outputs": [],
   "source": [
    "# Create City Column\n",
    "sales_data['City'] = city"
   ]
  },
  {
   "cell_type": "code",
   "execution_count": 24,
   "id": "83a7f568",
   "metadata": {},
   "outputs": [
    {
     "data": {
      "text/html": [
       "<div>\n",
       "<style scoped>\n",
       "    .dataframe tbody tr th:only-of-type {\n",
       "        vertical-align: middle;\n",
       "    }\n",
       "\n",
       "    .dataframe tbody tr th {\n",
       "        vertical-align: top;\n",
       "    }\n",
       "\n",
       "    .dataframe thead th {\n",
       "        text-align: right;\n",
       "    }\n",
       "</style>\n",
       "<table border=\"1\" class=\"dataframe\">\n",
       "  <thead>\n",
       "    <tr style=\"text-align: right;\">\n",
       "      <th></th>\n",
       "      <th>Order ID</th>\n",
       "      <th>Product</th>\n",
       "      <th>Quantity Ordered</th>\n",
       "      <th>Price Each</th>\n",
       "      <th>Order Date</th>\n",
       "      <th>Purchase Address</th>\n",
       "      <th>Year</th>\n",
       "      <th>Month</th>\n",
       "      <th>Hour</th>\n",
       "      <th>Minute</th>\n",
       "      <th>Revenue</th>\n",
       "      <th>City</th>\n",
       "    </tr>\n",
       "  </thead>\n",
       "  <tbody>\n",
       "    <tr>\n",
       "      <th>0</th>\n",
       "      <td>176558</td>\n",
       "      <td>USB-C Charging Cable</td>\n",
       "      <td>2</td>\n",
       "      <td>11.95</td>\n",
       "      <td>2019-04-19 08:46:00</td>\n",
       "      <td>917 1st St, Dallas, TX 75001</td>\n",
       "      <td>2019</td>\n",
       "      <td>4</td>\n",
       "      <td>8</td>\n",
       "      <td>46</td>\n",
       "      <td>23.90</td>\n",
       "      <td>Dallas</td>\n",
       "    </tr>\n",
       "    <tr>\n",
       "      <th>2</th>\n",
       "      <td>176559</td>\n",
       "      <td>Bose SoundSport Headphones</td>\n",
       "      <td>1</td>\n",
       "      <td>99.99</td>\n",
       "      <td>2019-04-07 22:30:00</td>\n",
       "      <td>682 Chestnut St, Boston, MA 02215</td>\n",
       "      <td>2019</td>\n",
       "      <td>4</td>\n",
       "      <td>22</td>\n",
       "      <td>30</td>\n",
       "      <td>99.99</td>\n",
       "      <td>Boston</td>\n",
       "    </tr>\n",
       "    <tr>\n",
       "      <th>3</th>\n",
       "      <td>176560</td>\n",
       "      <td>Google Phone</td>\n",
       "      <td>1</td>\n",
       "      <td>600.00</td>\n",
       "      <td>2019-04-12 14:38:00</td>\n",
       "      <td>669 Spruce St, Los Angeles, CA 90001</td>\n",
       "      <td>2019</td>\n",
       "      <td>4</td>\n",
       "      <td>14</td>\n",
       "      <td>38</td>\n",
       "      <td>600.00</td>\n",
       "      <td>Los Angeles</td>\n",
       "    </tr>\n",
       "    <tr>\n",
       "      <th>4</th>\n",
       "      <td>176560</td>\n",
       "      <td>Wired Headphones</td>\n",
       "      <td>1</td>\n",
       "      <td>11.99</td>\n",
       "      <td>2019-04-12 14:38:00</td>\n",
       "      <td>669 Spruce St, Los Angeles, CA 90001</td>\n",
       "      <td>2019</td>\n",
       "      <td>4</td>\n",
       "      <td>14</td>\n",
       "      <td>38</td>\n",
       "      <td>11.99</td>\n",
       "      <td>Los Angeles</td>\n",
       "    </tr>\n",
       "    <tr>\n",
       "      <th>5</th>\n",
       "      <td>176561</td>\n",
       "      <td>Wired Headphones</td>\n",
       "      <td>1</td>\n",
       "      <td>11.99</td>\n",
       "      <td>2019-04-30 09:27:00</td>\n",
       "      <td>333 8th St, Los Angeles, CA 90001</td>\n",
       "      <td>2019</td>\n",
       "      <td>4</td>\n",
       "      <td>9</td>\n",
       "      <td>27</td>\n",
       "      <td>11.99</td>\n",
       "      <td>Los Angeles</td>\n",
       "    </tr>\n",
       "    <tr>\n",
       "      <th>...</th>\n",
       "      <td>...</td>\n",
       "      <td>...</td>\n",
       "      <td>...</td>\n",
       "      <td>...</td>\n",
       "      <td>...</td>\n",
       "      <td>...</td>\n",
       "      <td>...</td>\n",
       "      <td>...</td>\n",
       "      <td>...</td>\n",
       "      <td>...</td>\n",
       "      <td>...</td>\n",
       "      <td>...</td>\n",
       "    </tr>\n",
       "    <tr>\n",
       "      <th>186845</th>\n",
       "      <td>259353</td>\n",
       "      <td>AAA Batteries (4-pack)</td>\n",
       "      <td>3</td>\n",
       "      <td>2.99</td>\n",
       "      <td>2019-09-17 20:56:00</td>\n",
       "      <td>840 Highland St, Los Angeles, CA 90001</td>\n",
       "      <td>2019</td>\n",
       "      <td>9</td>\n",
       "      <td>20</td>\n",
       "      <td>56</td>\n",
       "      <td>8.97</td>\n",
       "      <td>Los Angeles</td>\n",
       "    </tr>\n",
       "    <tr>\n",
       "      <th>186846</th>\n",
       "      <td>259354</td>\n",
       "      <td>iPhone</td>\n",
       "      <td>1</td>\n",
       "      <td>700.00</td>\n",
       "      <td>2019-09-01 16:00:00</td>\n",
       "      <td>216 Dogwood St, San Francisco, CA 94016</td>\n",
       "      <td>2019</td>\n",
       "      <td>9</td>\n",
       "      <td>16</td>\n",
       "      <td>0</td>\n",
       "      <td>700.00</td>\n",
       "      <td>San Francisco</td>\n",
       "    </tr>\n",
       "    <tr>\n",
       "      <th>186847</th>\n",
       "      <td>259355</td>\n",
       "      <td>iPhone</td>\n",
       "      <td>1</td>\n",
       "      <td>700.00</td>\n",
       "      <td>2019-09-23 07:39:00</td>\n",
       "      <td>220 12th St, San Francisco, CA 94016</td>\n",
       "      <td>2019</td>\n",
       "      <td>9</td>\n",
       "      <td>7</td>\n",
       "      <td>39</td>\n",
       "      <td>700.00</td>\n",
       "      <td>San Francisco</td>\n",
       "    </tr>\n",
       "    <tr>\n",
       "      <th>186848</th>\n",
       "      <td>259356</td>\n",
       "      <td>34in Ultrawide Monitor</td>\n",
       "      <td>1</td>\n",
       "      <td>379.99</td>\n",
       "      <td>2019-09-19 17:30:00</td>\n",
       "      <td>511 Forest St, San Francisco, CA 94016</td>\n",
       "      <td>2019</td>\n",
       "      <td>9</td>\n",
       "      <td>17</td>\n",
       "      <td>30</td>\n",
       "      <td>379.99</td>\n",
       "      <td>San Francisco</td>\n",
       "    </tr>\n",
       "    <tr>\n",
       "      <th>186849</th>\n",
       "      <td>259357</td>\n",
       "      <td>USB-C Charging Cable</td>\n",
       "      <td>1</td>\n",
       "      <td>11.95</td>\n",
       "      <td>2019-09-30 00:18:00</td>\n",
       "      <td>250 Meadow St, San Francisco, CA 94016</td>\n",
       "      <td>2019</td>\n",
       "      <td>9</td>\n",
       "      <td>0</td>\n",
       "      <td>18</td>\n",
       "      <td>11.95</td>\n",
       "      <td>San Francisco</td>\n",
       "    </tr>\n",
       "  </tbody>\n",
       "</table>\n",
       "<p>185950 rows × 12 columns</p>\n",
       "</div>"
      ],
      "text/plain": [
       "       Order ID                     Product  Quantity Ordered  Price Each  \\\n",
       "0        176558        USB-C Charging Cable                 2       11.95   \n",
       "2        176559  Bose SoundSport Headphones                 1       99.99   \n",
       "3        176560                Google Phone                 1      600.00   \n",
       "4        176560            Wired Headphones                 1       11.99   \n",
       "5        176561            Wired Headphones                 1       11.99   \n",
       "...         ...                         ...               ...         ...   \n",
       "186845   259353      AAA Batteries (4-pack)                 3        2.99   \n",
       "186846   259354                      iPhone                 1      700.00   \n",
       "186847   259355                      iPhone                 1      700.00   \n",
       "186848   259356      34in Ultrawide Monitor                 1      379.99   \n",
       "186849   259357        USB-C Charging Cable                 1       11.95   \n",
       "\n",
       "                Order Date                         Purchase Address  Year  \\\n",
       "0      2019-04-19 08:46:00             917 1st St, Dallas, TX 75001  2019   \n",
       "2      2019-04-07 22:30:00        682 Chestnut St, Boston, MA 02215  2019   \n",
       "3      2019-04-12 14:38:00     669 Spruce St, Los Angeles, CA 90001  2019   \n",
       "4      2019-04-12 14:38:00     669 Spruce St, Los Angeles, CA 90001  2019   \n",
       "5      2019-04-30 09:27:00        333 8th St, Los Angeles, CA 90001  2019   \n",
       "...                    ...                                      ...   ...   \n",
       "186845 2019-09-17 20:56:00   840 Highland St, Los Angeles, CA 90001  2019   \n",
       "186846 2019-09-01 16:00:00  216 Dogwood St, San Francisco, CA 94016  2019   \n",
       "186847 2019-09-23 07:39:00     220 12th St, San Francisco, CA 94016  2019   \n",
       "186848 2019-09-19 17:30:00   511 Forest St, San Francisco, CA 94016  2019   \n",
       "186849 2019-09-30 00:18:00   250 Meadow St, San Francisco, CA 94016  2019   \n",
       "\n",
       "        Month  Hour  Minute  Revenue           City  \n",
       "0           4     8      46    23.90         Dallas  \n",
       "2           4    22      30    99.99         Boston  \n",
       "3           4    14      38   600.00    Los Angeles  \n",
       "4           4    14      38    11.99    Los Angeles  \n",
       "5           4     9      27    11.99    Los Angeles  \n",
       "...       ...   ...     ...      ...            ...  \n",
       "186845      9    20      56     8.97    Los Angeles  \n",
       "186846      9    16       0   700.00  San Francisco  \n",
       "186847      9     7      39   700.00  San Francisco  \n",
       "186848      9    17      30   379.99  San Francisco  \n",
       "186849      9     0      18    11.95  San Francisco  \n",
       "\n",
       "[185950 rows x 12 columns]"
      ]
     },
     "execution_count": 24,
     "metadata": {},
     "output_type": "execute_result"
    }
   ],
   "source": [
    "sales_data"
   ]
  },
  {
   "cell_type": "markdown",
   "id": "85967102",
   "metadata": {},
   "source": [
    "## Cleaned Data Recap"
   ]
  },
  {
   "cell_type": "code",
   "execution_count": 25,
   "id": "54418aa2",
   "metadata": {},
   "outputs": [
    {
     "name": "stdout",
     "output_type": "stream",
     "text": [
      "Number of unique values in each column :\n",
      " Order ID            178437\n",
      "Product                 19\n",
      "Quantity Ordered         9\n",
      "Price Each              17\n",
      "Order Date          142395\n",
      "Purchase Address    140787\n",
      "Year                     2\n",
      "Month                   12\n",
      "Hour                    24\n",
      "Minute                  60\n",
      "Revenue                 54\n",
      "City                     9\n",
      "dtype: int64\n"
     ]
    }
   ],
   "source": [
    "# Check number of unique values for each column\n",
    "n = sales_data.nunique(axis=0)\n",
    "  \n",
    "print(\"Number of unique values in each column :\\n\",n)"
   ]
  },
  {
   "cell_type": "code",
   "execution_count": 26,
   "id": "fb0a9ccb",
   "metadata": {},
   "outputs": [
    {
     "data": {
      "text/plain": [
       "Index(['Order ID', 'Product', 'Quantity Ordered', 'Price Each', 'Order Date',\n",
       "       'Purchase Address', 'Year', 'Month', 'Hour', 'Minute', 'Revenue',\n",
       "       'City'],\n",
       "      dtype='object')"
      ]
     },
     "execution_count": 26,
     "metadata": {},
     "output_type": "execute_result"
    }
   ],
   "source": [
    "sales_data.columns # listing cleaned data columns"
   ]
  },
  {
   "cell_type": "code",
   "execution_count": 27,
   "id": "aab2c2ba",
   "metadata": {},
   "outputs": [
    {
     "data": {
      "text/plain": [
       "array([2019, 2020], dtype=int64)"
      ]
     },
     "execution_count": 27,
     "metadata": {},
     "output_type": "execute_result"
    }
   ],
   "source": [
    "sales_data['Year'].unique()"
   ]
  },
  {
   "cell_type": "markdown",
   "id": "a37d7cd9",
   "metadata": {},
   "source": [
    "In this dataset we also have some of 2020 data, but in this case I only want to analyze the 2019 data.\n",
    "So, we'll drop the 2020 data."
   ]
  },
  {
   "cell_type": "code",
   "execution_count": 28,
   "id": "09067cc1",
   "metadata": {},
   "outputs": [],
   "source": [
    "sales_data = sales_data[sales_data.Year != 2020] # drop rows that contain '2020' in Year column"
   ]
  },
  {
   "cell_type": "code",
   "execution_count": 29,
   "id": "692e1456",
   "metadata": {},
   "outputs": [
    {
     "name": "stdout",
     "output_type": "stream",
     "text": [
      "Number of unique values in each column for 2019 data:\n",
      " Order ID            178406\n",
      "Product                 19\n",
      "Quantity Ordered         9\n",
      "Price Each              17\n",
      "Order Date          142366\n",
      "Purchase Address    140768\n",
      "Year                     1\n",
      "Month                   12\n",
      "Hour                    24\n",
      "Minute                  60\n",
      "Revenue                 54\n",
      "City                     9\n",
      "dtype: int64\n"
     ]
    }
   ],
   "source": [
    "n = sales_data.nunique(axis=0)\n",
    "  \n",
    "print(\"Number of unique values in each column for 2019 data:\\n\",n)"
   ]
  },
  {
   "cell_type": "markdown",
   "id": "2f2a2714",
   "metadata": {},
   "source": [
    "# Data Analysis"
   ]
  },
  {
   "cell_type": "markdown",
   "id": "ab34e251",
   "metadata": {},
   "source": [
    "## Q1: What is the total number of sales?"
   ]
  },
  {
   "cell_type": "code",
   "execution_count": 30,
   "id": "ff6d9eba",
   "metadata": {},
   "outputs": [
    {
     "data": {
      "text/html": [
       "<div>\n",
       "<style scoped>\n",
       "    .dataframe tbody tr th:only-of-type {\n",
       "        vertical-align: middle;\n",
       "    }\n",
       "\n",
       "    .dataframe tbody tr th {\n",
       "        vertical-align: top;\n",
       "    }\n",
       "\n",
       "    .dataframe thead th {\n",
       "        text-align: right;\n",
       "    }\n",
       "</style>\n",
       "<table border=\"1\" class=\"dataframe\">\n",
       "  <thead>\n",
       "    <tr style=\"text-align: right;\">\n",
       "      <th></th>\n",
       "      <th>Quantity Ordered</th>\n",
       "      <th>Price Each</th>\n",
       "      <th>Revenue</th>\n",
       "    </tr>\n",
       "    <tr>\n",
       "      <th>Year</th>\n",
       "      <th></th>\n",
       "      <th></th>\n",
       "      <th></th>\n",
       "    </tr>\n",
       "  </thead>\n",
       "  <tbody>\n",
       "    <tr>\n",
       "      <th>2019</th>\n",
       "      <td>209038</td>\n",
       "      <td>184.38772</td>\n",
       "      <td>34483365.68</td>\n",
       "    </tr>\n",
       "  </tbody>\n",
       "</table>\n",
       "</div>"
      ],
      "text/plain": [
       "      Quantity Ordered  Price Each      Revenue\n",
       "Year                                           \n",
       "2019            209038   184.38772  34483365.68"
      ]
     },
     "execution_count": 30,
     "metadata": {},
     "output_type": "execute_result"
    }
   ],
   "source": [
    "year_sales = sales_data.groupby('Year').agg({'Quantity Ordered' : 'sum', 'Price Each' : 'mean', 'Revenue' : 'sum'})\n",
    "year_sales"
   ]
  },
  {
   "cell_type": "markdown",
   "id": "fc113314",
   "metadata": {},
   "source": [
    "The total sales in 2019 were __USD 34.483.365__ with __209.038 products sold__."
   ]
  },
  {
   "cell_type": "markdown",
   "id": "b4c589c7",
   "metadata": {},
   "source": [
    "- - -"
   ]
  },
  {
   "cell_type": "markdown",
   "id": "af18acec",
   "metadata": {},
   "source": [
    "### Basic Analysis"
   ]
  },
  {
   "cell_type": "code",
   "execution_count": 31,
   "id": "fb4a3af5",
   "metadata": {},
   "outputs": [
    {
     "name": "stdout",
     "output_type": "stream",
     "text": [
      "Quantity Ordered, Price Each, and Revenue By Product\n"
     ]
    },
    {
     "data": {
      "text/html": [
       "<div>\n",
       "<style scoped>\n",
       "    .dataframe tbody tr th:only-of-type {\n",
       "        vertical-align: middle;\n",
       "    }\n",
       "\n",
       "    .dataframe tbody tr th {\n",
       "        vertical-align: top;\n",
       "    }\n",
       "\n",
       "    .dataframe thead th {\n",
       "        text-align: right;\n",
       "    }\n",
       "</style>\n",
       "<table border=\"1\" class=\"dataframe\">\n",
       "  <thead>\n",
       "    <tr style=\"text-align: right;\">\n",
       "      <th></th>\n",
       "      <th>Quantity Ordered</th>\n",
       "      <th>Price Each</th>\n",
       "      <th>Revenue</th>\n",
       "    </tr>\n",
       "    <tr>\n",
       "      <th>Product</th>\n",
       "      <th></th>\n",
       "      <th></th>\n",
       "      <th></th>\n",
       "    </tr>\n",
       "  </thead>\n",
       "  <tbody>\n",
       "    <tr>\n",
       "      <th>20in Monitor</th>\n",
       "      <td>4126</td>\n",
       "      <td>109.99</td>\n",
       "      <td>453818.74</td>\n",
       "    </tr>\n",
       "    <tr>\n",
       "      <th>27in 4K Gaming Monitor</th>\n",
       "      <td>6243</td>\n",
       "      <td>389.99</td>\n",
       "      <td>2434707.57</td>\n",
       "    </tr>\n",
       "    <tr>\n",
       "      <th>27in FHD Monitor</th>\n",
       "      <td>7547</td>\n",
       "      <td>149.99</td>\n",
       "      <td>1131974.53</td>\n",
       "    </tr>\n",
       "    <tr>\n",
       "      <th>34in Ultrawide Monitor</th>\n",
       "      <td>6199</td>\n",
       "      <td>379.99</td>\n",
       "      <td>2355558.01</td>\n",
       "    </tr>\n",
       "    <tr>\n",
       "      <th>AA Batteries (4-pack)</th>\n",
       "      <td>27635</td>\n",
       "      <td>3.84</td>\n",
       "      <td>106118.40</td>\n",
       "    </tr>\n",
       "    <tr>\n",
       "      <th>AAA Batteries (4-pack)</th>\n",
       "      <td>31012</td>\n",
       "      <td>2.99</td>\n",
       "      <td>92725.88</td>\n",
       "    </tr>\n",
       "    <tr>\n",
       "      <th>Apple Airpods Headphones</th>\n",
       "      <td>15657</td>\n",
       "      <td>150.00</td>\n",
       "      <td>2348550.00</td>\n",
       "    </tr>\n",
       "    <tr>\n",
       "      <th>Bose SoundSport Headphones</th>\n",
       "      <td>13454</td>\n",
       "      <td>99.99</td>\n",
       "      <td>1345265.46</td>\n",
       "    </tr>\n",
       "    <tr>\n",
       "      <th>Flatscreen TV</th>\n",
       "      <td>4818</td>\n",
       "      <td>300.00</td>\n",
       "      <td>1445400.00</td>\n",
       "    </tr>\n",
       "    <tr>\n",
       "      <th>Google Phone</th>\n",
       "      <td>5531</td>\n",
       "      <td>600.00</td>\n",
       "      <td>3318600.00</td>\n",
       "    </tr>\n",
       "    <tr>\n",
       "      <th>LG Dryer</th>\n",
       "      <td>646</td>\n",
       "      <td>600.00</td>\n",
       "      <td>387600.00</td>\n",
       "    </tr>\n",
       "    <tr>\n",
       "      <th>LG Washing Machine</th>\n",
       "      <td>666</td>\n",
       "      <td>600.00</td>\n",
       "      <td>399600.00</td>\n",
       "    </tr>\n",
       "    <tr>\n",
       "      <th>Lightning Charging Cable</th>\n",
       "      <td>23211</td>\n",
       "      <td>14.95</td>\n",
       "      <td>347004.45</td>\n",
       "    </tr>\n",
       "    <tr>\n",
       "      <th>Macbook Pro Laptop</th>\n",
       "      <td>4727</td>\n",
       "      <td>1700.00</td>\n",
       "      <td>8035900.00</td>\n",
       "    </tr>\n",
       "    <tr>\n",
       "      <th>ThinkPad Laptop</th>\n",
       "      <td>4128</td>\n",
       "      <td>999.99</td>\n",
       "      <td>4127958.72</td>\n",
       "    </tr>\n",
       "    <tr>\n",
       "      <th>USB-C Charging Cable</th>\n",
       "      <td>23971</td>\n",
       "      <td>11.95</td>\n",
       "      <td>286453.45</td>\n",
       "    </tr>\n",
       "    <tr>\n",
       "      <th>Vareebadd Phone</th>\n",
       "      <td>2067</td>\n",
       "      <td>400.00</td>\n",
       "      <td>826800.00</td>\n",
       "    </tr>\n",
       "    <tr>\n",
       "      <th>Wired Headphones</th>\n",
       "      <td>20553</td>\n",
       "      <td>11.99</td>\n",
       "      <td>246430.47</td>\n",
       "    </tr>\n",
       "    <tr>\n",
       "      <th>iPhone</th>\n",
       "      <td>6847</td>\n",
       "      <td>700.00</td>\n",
       "      <td>4792900.00</td>\n",
       "    </tr>\n",
       "  </tbody>\n",
       "</table>\n",
       "</div>"
      ],
      "text/plain": [
       "                            Quantity Ordered  Price Each     Revenue\n",
       "Product                                                             \n",
       "20in Monitor                            4126      109.99   453818.74\n",
       "27in 4K Gaming Monitor                  6243      389.99  2434707.57\n",
       "27in FHD Monitor                        7547      149.99  1131974.53\n",
       "34in Ultrawide Monitor                  6199      379.99  2355558.01\n",
       "AA Batteries (4-pack)                  27635        3.84   106118.40\n",
       "AAA Batteries (4-pack)                 31012        2.99    92725.88\n",
       "Apple Airpods Headphones               15657      150.00  2348550.00\n",
       "Bose SoundSport Headphones             13454       99.99  1345265.46\n",
       "Flatscreen TV                           4818      300.00  1445400.00\n",
       "Google Phone                            5531      600.00  3318600.00\n",
       "LG Dryer                                 646      600.00   387600.00\n",
       "LG Washing Machine                       666      600.00   399600.00\n",
       "Lightning Charging Cable               23211       14.95   347004.45\n",
       "Macbook Pro Laptop                      4727     1700.00  8035900.00\n",
       "ThinkPad Laptop                         4128      999.99  4127958.72\n",
       "USB-C Charging Cable                   23971       11.95   286453.45\n",
       "Vareebadd Phone                         2067      400.00   826800.00\n",
       "Wired Headphones                       20553       11.99   246430.47\n",
       "iPhone                                  6847      700.00  4792900.00"
      ]
     },
     "execution_count": 31,
     "metadata": {},
     "output_type": "execute_result"
    }
   ],
   "source": [
    "product_sales = sales_data.groupby('Product').agg({'Quantity Ordered' : 'sum', 'Price Each' : 'mean', 'Revenue' : 'sum'})\n",
    "print('Quantity Ordered, Price Each, and Revenue By Product')\n",
    "product_sales"
   ]
  },
  {
   "cell_type": "code",
   "execution_count": 32,
   "id": "233d0fdc",
   "metadata": {
    "scrolled": true
   },
   "outputs": [
    {
     "name": "stdout",
     "output_type": "stream",
     "text": [
      "Statistical Measure of Numeric Type Sales Data\n"
     ]
    },
    {
     "data": {
      "text/html": [
       "<div>\n",
       "<style scoped>\n",
       "    .dataframe tbody tr th:only-of-type {\n",
       "        vertical-align: middle;\n",
       "    }\n",
       "\n",
       "    .dataframe tbody tr th {\n",
       "        vertical-align: top;\n",
       "    }\n",
       "\n",
       "    .dataframe thead th {\n",
       "        text-align: right;\n",
       "    }\n",
       "</style>\n",
       "<table border=\"1\" class=\"dataframe\">\n",
       "  <thead>\n",
       "    <tr style=\"text-align: right;\">\n",
       "      <th></th>\n",
       "      <th>Quantity Ordered</th>\n",
       "      <th>Price Each</th>\n",
       "      <th>Year</th>\n",
       "      <th>Month</th>\n",
       "      <th>Hour</th>\n",
       "      <th>Minute</th>\n",
       "      <th>Revenue</th>\n",
       "    </tr>\n",
       "  </thead>\n",
       "  <tbody>\n",
       "    <tr>\n",
       "      <th>count</th>\n",
       "      <td>185916.000000</td>\n",
       "      <td>185916.000000</td>\n",
       "      <td>185916.0</td>\n",
       "      <td>185916.000000</td>\n",
       "      <td>185916.000000</td>\n",
       "      <td>185916.000000</td>\n",
       "      <td>185916.000000</td>\n",
       "    </tr>\n",
       "    <tr>\n",
       "      <th>mean</th>\n",
       "      <td>1.124368</td>\n",
       "      <td>184.387720</td>\n",
       "      <td>2019.0</td>\n",
       "      <td>7.060248</td>\n",
       "      <td>14.415661</td>\n",
       "      <td>29.481744</td>\n",
       "      <td>185.478203</td>\n",
       "    </tr>\n",
       "    <tr>\n",
       "      <th>std</th>\n",
       "      <td>0.442749</td>\n",
       "      <td>332.722426</td>\n",
       "      <td>0.0</td>\n",
       "      <td>3.502358</td>\n",
       "      <td>5.421069</td>\n",
       "      <td>17.317339</td>\n",
       "      <td>332.911130</td>\n",
       "    </tr>\n",
       "    <tr>\n",
       "      <th>min</th>\n",
       "      <td>1.000000</td>\n",
       "      <td>2.990000</td>\n",
       "      <td>2019.0</td>\n",
       "      <td>1.000000</td>\n",
       "      <td>0.000000</td>\n",
       "      <td>0.000000</td>\n",
       "      <td>2.990000</td>\n",
       "    </tr>\n",
       "    <tr>\n",
       "      <th>25%</th>\n",
       "      <td>1.000000</td>\n",
       "      <td>11.950000</td>\n",
       "      <td>2019.0</td>\n",
       "      <td>4.000000</td>\n",
       "      <td>11.000000</td>\n",
       "      <td>14.000000</td>\n",
       "      <td>11.950000</td>\n",
       "    </tr>\n",
       "    <tr>\n",
       "      <th>50%</th>\n",
       "      <td>1.000000</td>\n",
       "      <td>14.950000</td>\n",
       "      <td>2019.0</td>\n",
       "      <td>7.000000</td>\n",
       "      <td>15.000000</td>\n",
       "      <td>29.000000</td>\n",
       "      <td>14.950000</td>\n",
       "    </tr>\n",
       "    <tr>\n",
       "      <th>75%</th>\n",
       "      <td>1.000000</td>\n",
       "      <td>150.000000</td>\n",
       "      <td>2019.0</td>\n",
       "      <td>10.000000</td>\n",
       "      <td>19.000000</td>\n",
       "      <td>45.000000</td>\n",
       "      <td>150.000000</td>\n",
       "    </tr>\n",
       "    <tr>\n",
       "      <th>max</th>\n",
       "      <td>9.000000</td>\n",
       "      <td>1700.000000</td>\n",
       "      <td>2019.0</td>\n",
       "      <td>12.000000</td>\n",
       "      <td>23.000000</td>\n",
       "      <td>59.000000</td>\n",
       "      <td>3400.000000</td>\n",
       "    </tr>\n",
       "  </tbody>\n",
       "</table>\n",
       "</div>"
      ],
      "text/plain": [
       "       Quantity Ordered     Price Each      Year          Month  \\\n",
       "count     185916.000000  185916.000000  185916.0  185916.000000   \n",
       "mean           1.124368     184.387720    2019.0       7.060248   \n",
       "std            0.442749     332.722426       0.0       3.502358   \n",
       "min            1.000000       2.990000    2019.0       1.000000   \n",
       "25%            1.000000      11.950000    2019.0       4.000000   \n",
       "50%            1.000000      14.950000    2019.0       7.000000   \n",
       "75%            1.000000     150.000000    2019.0      10.000000   \n",
       "max            9.000000    1700.000000    2019.0      12.000000   \n",
       "\n",
       "                Hour         Minute        Revenue  \n",
       "count  185916.000000  185916.000000  185916.000000  \n",
       "mean       14.415661      29.481744     185.478203  \n",
       "std         5.421069      17.317339     332.911130  \n",
       "min         0.000000       0.000000       2.990000  \n",
       "25%        11.000000      14.000000      11.950000  \n",
       "50%        15.000000      29.000000      14.950000  \n",
       "75%        19.000000      45.000000     150.000000  \n",
       "max        23.000000      59.000000    3400.000000  "
      ]
     },
     "execution_count": 32,
     "metadata": {},
     "output_type": "execute_result"
    }
   ],
   "source": [
    "# Statistical measure of sales data (numeric)\n",
    "sales_data_numeric = sales_data.describe(include=[np.number]) \n",
    "print(\"Statistical Measure of Numeric Type Sales Data\")\n",
    "sales_data_numeric"
   ]
  },
  {
   "cell_type": "code",
   "execution_count": 33,
   "id": "c9b668b1",
   "metadata": {},
   "outputs": [
    {
     "name": "stdout",
     "output_type": "stream",
     "text": [
      "Statistical Measure of Object / String Type Sales Data\n"
     ]
    },
    {
     "data": {
      "text/html": [
       "<div>\n",
       "<style scoped>\n",
       "    .dataframe tbody tr th:only-of-type {\n",
       "        vertical-align: middle;\n",
       "    }\n",
       "\n",
       "    .dataframe tbody tr th {\n",
       "        vertical-align: top;\n",
       "    }\n",
       "\n",
       "    .dataframe thead th {\n",
       "        text-align: right;\n",
       "    }\n",
       "</style>\n",
       "<table border=\"1\" class=\"dataframe\">\n",
       "  <thead>\n",
       "    <tr style=\"text-align: right;\">\n",
       "      <th></th>\n",
       "      <th>Order ID</th>\n",
       "      <th>Product</th>\n",
       "      <th>Order Date</th>\n",
       "      <th>Purchase Address</th>\n",
       "      <th>City</th>\n",
       "    </tr>\n",
       "  </thead>\n",
       "  <tbody>\n",
       "    <tr>\n",
       "      <th>count</th>\n",
       "      <td>185916</td>\n",
       "      <td>185916</td>\n",
       "      <td>185916</td>\n",
       "      <td>185916</td>\n",
       "      <td>185916</td>\n",
       "    </tr>\n",
       "    <tr>\n",
       "      <th>unique</th>\n",
       "      <td>178406</td>\n",
       "      <td>19</td>\n",
       "      <td>NaN</td>\n",
       "      <td>140768</td>\n",
       "      <td>9</td>\n",
       "    </tr>\n",
       "    <tr>\n",
       "      <th>top</th>\n",
       "      <td>160873</td>\n",
       "      <td>USB-C Charging Cable</td>\n",
       "      <td>NaN</td>\n",
       "      <td>193 Forest St, San Francisco, CA 94016</td>\n",
       "      <td>San Francisco</td>\n",
       "    </tr>\n",
       "    <tr>\n",
       "      <th>freq</th>\n",
       "      <td>5</td>\n",
       "      <td>21899</td>\n",
       "      <td>NaN</td>\n",
       "      <td>9</td>\n",
       "      <td>44720</td>\n",
       "    </tr>\n",
       "    <tr>\n",
       "      <th>mean</th>\n",
       "      <td>NaN</td>\n",
       "      <td>NaN</td>\n",
       "      <td>2019-07-18 21:10:53.291163904</td>\n",
       "      <td>NaN</td>\n",
       "      <td>NaN</td>\n",
       "    </tr>\n",
       "    <tr>\n",
       "      <th>min</th>\n",
       "      <td>NaN</td>\n",
       "      <td>NaN</td>\n",
       "      <td>2019-01-01 03:07:00</td>\n",
       "      <td>NaN</td>\n",
       "      <td>NaN</td>\n",
       "    </tr>\n",
       "    <tr>\n",
       "      <th>25%</th>\n",
       "      <td>NaN</td>\n",
       "      <td>NaN</td>\n",
       "      <td>2019-04-16 20:52:00</td>\n",
       "      <td>NaN</td>\n",
       "      <td>NaN</td>\n",
       "    </tr>\n",
       "    <tr>\n",
       "      <th>50%</th>\n",
       "      <td>NaN</td>\n",
       "      <td>NaN</td>\n",
       "      <td>2019-07-17 20:09:30</td>\n",
       "      <td>NaN</td>\n",
       "      <td>NaN</td>\n",
       "    </tr>\n",
       "    <tr>\n",
       "      <th>75%</th>\n",
       "      <td>NaN</td>\n",
       "      <td>NaN</td>\n",
       "      <td>2019-10-26 06:58:00</td>\n",
       "      <td>NaN</td>\n",
       "      <td>NaN</td>\n",
       "    </tr>\n",
       "    <tr>\n",
       "      <th>max</th>\n",
       "      <td>NaN</td>\n",
       "      <td>NaN</td>\n",
       "      <td>2019-12-31 23:53:00</td>\n",
       "      <td>NaN</td>\n",
       "      <td>NaN</td>\n",
       "    </tr>\n",
       "  </tbody>\n",
       "</table>\n",
       "</div>"
      ],
      "text/plain": [
       "       Order ID               Product                     Order Date  \\\n",
       "count    185916                185916                         185916   \n",
       "unique   178406                    19                            NaN   \n",
       "top      160873  USB-C Charging Cable                            NaN   \n",
       "freq          5                 21899                            NaN   \n",
       "mean        NaN                   NaN  2019-07-18 21:10:53.291163904   \n",
       "min         NaN                   NaN            2019-01-01 03:07:00   \n",
       "25%         NaN                   NaN            2019-04-16 20:52:00   \n",
       "50%         NaN                   NaN            2019-07-17 20:09:30   \n",
       "75%         NaN                   NaN            2019-10-26 06:58:00   \n",
       "max         NaN                   NaN            2019-12-31 23:53:00   \n",
       "\n",
       "                              Purchase Address           City  \n",
       "count                                   185916         185916  \n",
       "unique                                  140768              9  \n",
       "top     193 Forest St, San Francisco, CA 94016  San Francisco  \n",
       "freq                                         9          44720  \n",
       "mean                                       NaN            NaN  \n",
       "min                                        NaN            NaN  \n",
       "25%                                        NaN            NaN  \n",
       "50%                                        NaN            NaN  \n",
       "75%                                        NaN            NaN  \n",
       "max                                        NaN            NaN  "
      ]
     },
     "execution_count": 33,
     "metadata": {},
     "output_type": "execute_result"
    }
   ],
   "source": [
    "# statistical measure of sales data (object / string)\n",
    "sales_data_object = sales_data.describe(exclude=[np.number],datetime_is_numeric=True)\n",
    "print(\"Statistical Measure of Object / String Type Sales Data\")\n",
    "sales_data_object"
   ]
  },
  {
   "cell_type": "code",
   "execution_count": 34,
   "id": "155a9918",
   "metadata": {},
   "outputs": [
    {
     "data": {
      "image/png": "[encoded data removed]",
      "text/plain": [
       "<Figure size 1600x1200 with 2 Axes>"
      ]
     },
     "metadata": {},
     "output_type": "display_data"
    }
   ],
   "source": [
    "plt.figure(figsize=(16, 12))\n",
    "sns.heatmap(sales_data[['Quantity Ordered', 'Price Each', 'Month', 'Hour', 'Minute', 'Revenue']].corr(), \n",
    "            annot=True, cmap='Blues',linewidths=0.005, linecolor='Black')\n",
    "\n",
    "plt.title(\"Sales Data Correlation\", weight=\"bold\", fontsize=28, pad=20) # title\n",
    "plt.xticks(weight=\"bold\", fontsize=10) # x-ticks\n",
    "plt.yticks(weight=\"bold\", fontsize=10); # y-ticks"
   ]
  },
  {
   "cell_type": "markdown",
   "id": "9d94d53b",
   "metadata": {},
   "source": [
    "- - -"
   ]
  },
  {
   "cell_type": "markdown",
   "id": "3f469ac7",
   "metadata": {},
   "source": [
    "## Q2: What is the average sales per month? "
   ]
  },
  {
   "cell_type": "code",
   "execution_count": 35,
   "id": "4e24314e",
   "metadata": {},
   "outputs": [
    {
     "name": "stdout",
     "output_type": "stream",
     "text": [
      "Average Sales by Month\n"
     ]
    },
    {
     "data": {
      "text/html": [
       "<div>\n",
       "<style scoped>\n",
       "    .dataframe tbody tr th:only-of-type {\n",
       "        vertical-align: middle;\n",
       "    }\n",
       "\n",
       "    .dataframe tbody tr th {\n",
       "        vertical-align: top;\n",
       "    }\n",
       "\n",
       "    .dataframe thead th {\n",
       "        text-align: right;\n",
       "    }\n",
       "</style>\n",
       "<table border=\"1\" class=\"dataframe\">\n",
       "  <thead>\n",
       "    <tr style=\"text-align: right;\">\n",
       "      <th></th>\n",
       "      <th>Revenue</th>\n",
       "    </tr>\n",
       "    <tr>\n",
       "      <th>Month</th>\n",
       "      <th></th>\n",
       "    </tr>\n",
       "  </thead>\n",
       "  <tbody>\n",
       "    <tr>\n",
       "      <th>1</th>\n",
       "      <td>187.450795</td>\n",
       "    </tr>\n",
       "    <tr>\n",
       "      <th>2</th>\n",
       "      <td>183.884962</td>\n",
       "    </tr>\n",
       "    <tr>\n",
       "      <th>3</th>\n",
       "      <td>185.250471</td>\n",
       "    </tr>\n",
       "    <tr>\n",
       "      <th>4</th>\n",
       "      <td>185.495390</td>\n",
       "    </tr>\n",
       "    <tr>\n",
       "      <th>5</th>\n",
       "      <td>190.305852</td>\n",
       "    </tr>\n",
       "    <tr>\n",
       "      <th>6</th>\n",
       "      <td>190.187565</td>\n",
       "    </tr>\n",
       "    <tr>\n",
       "      <th>7</th>\n",
       "      <td>185.249826</td>\n",
       "    </tr>\n",
       "    <tr>\n",
       "      <th>8</th>\n",
       "      <td>187.648849</td>\n",
       "    </tr>\n",
       "    <tr>\n",
       "      <th>9</th>\n",
       "      <td>180.497387</td>\n",
       "    </tr>\n",
       "    <tr>\n",
       "      <th>10</th>\n",
       "      <td>184.238580</td>\n",
       "    </tr>\n",
       "    <tr>\n",
       "      <th>11</th>\n",
       "      <td>182.074956</td>\n",
       "    </tr>\n",
       "    <tr>\n",
       "      <th>12</th>\n",
       "      <td>184.655913</td>\n",
       "    </tr>\n",
       "  </tbody>\n",
       "</table>\n",
       "</div>"
      ],
      "text/plain": [
       "          Revenue\n",
       "Month            \n",
       "1      187.450795\n",
       "2      183.884962\n",
       "3      185.250471\n",
       "4      185.495390\n",
       "5      190.305852\n",
       "6      190.187565\n",
       "7      185.249826\n",
       "8      187.648849\n",
       "9      180.497387\n",
       "10     184.238580\n",
       "11     182.074956\n",
       "12     184.655913"
      ]
     },
     "execution_count": 35,
     "metadata": {},
     "output_type": "execute_result"
    }
   ],
   "source": [
    "avg_month_sales = sales_data.groupby('Month').agg({'Revenue' : 'mean'})\n",
    "print('Average Sales by Month')\n",
    "avg_month_sales"
   ]
  },
  {
   "cell_type": "code",
   "execution_count": 36,
   "id": "db9430de",
   "metadata": {},
   "outputs": [
    {
     "data": {
      "image/png": "[encoded data removed]",
      "text/plain": [
       "<Figure size 1000x500 with 1 Axes>"
      ]
     },
     "metadata": {},
     "output_type": "display_data"
    }
   ],
   "source": [
    "plt.rcParams['figure.figsize']=(10,5)\n",
    "avg_month_sales.plot(kind='bar', color='#0D4C92')\n",
    "plt.title('Average Sales by Month', weight='bold', fontsize=15, pad=15)\n",
    "plt.ylim(0, 250)\n",
    "plt.ylabel('Revenue (US$)', weight='bold')\n",
    "plt.xlabel('Month', weight='bold');"
   ]
  },
  {
   "cell_type": "markdown",
   "id": "8e82476a",
   "metadata": {},
   "source": [
    "In 2019, __May__ has the highest average revenue with __USD 190.305852__, while __September__ has the lowest average revenue with  __USD 180.497387__."
   ]
  },
  {
   "cell_type": "markdown",
   "id": "3477c145",
   "metadata": {},
   "source": [
    "- - - "
   ]
  },
  {
   "cell_type": "markdown",
   "id": "c2c1cbde",
   "metadata": {},
   "source": [
    "## Q3: What was the best month for sales? How much was earned that month?"
   ]
  },
  {
   "cell_type": "code",
   "execution_count": 37,
   "id": "b0a819da",
   "metadata": {},
   "outputs": [
    {
     "name": "stdout",
     "output_type": "stream",
     "text": [
      "Total Sales by Month\n"
     ]
    },
    {
     "data": {
      "text/html": [
       "<div>\n",
       "<style scoped>\n",
       "    .dataframe tbody tr th:only-of-type {\n",
       "        vertical-align: middle;\n",
       "    }\n",
       "\n",
       "    .dataframe tbody tr th {\n",
       "        vertical-align: top;\n",
       "    }\n",
       "\n",
       "    .dataframe thead th {\n",
       "        text-align: right;\n",
       "    }\n",
       "</style>\n",
       "<table border=\"1\" class=\"dataframe\">\n",
       "  <thead>\n",
       "    <tr style=\"text-align: right;\">\n",
       "      <th></th>\n",
       "      <th>Month</th>\n",
       "      <th>Quantity Ordered</th>\n",
       "      <th>Revenue</th>\n",
       "    </tr>\n",
       "  </thead>\n",
       "  <tbody>\n",
       "    <tr>\n",
       "      <th>0</th>\n",
       "      <td>1</td>\n",
       "      <td>10862</td>\n",
       "      <td>1813586.44</td>\n",
       "    </tr>\n",
       "    <tr>\n",
       "      <th>1</th>\n",
       "      <td>2</td>\n",
       "      <td>13449</td>\n",
       "      <td>2202022.42</td>\n",
       "    </tr>\n",
       "    <tr>\n",
       "      <th>2</th>\n",
       "      <td>3</td>\n",
       "      <td>17005</td>\n",
       "      <td>2807100.38</td>\n",
       "    </tr>\n",
       "    <tr>\n",
       "      <th>3</th>\n",
       "      <td>4</td>\n",
       "      <td>20558</td>\n",
       "      <td>3390670.24</td>\n",
       "    </tr>\n",
       "    <tr>\n",
       "      <th>4</th>\n",
       "      <td>5</td>\n",
       "      <td>18667</td>\n",
       "      <td>3152606.75</td>\n",
       "    </tr>\n",
       "    <tr>\n",
       "      <th>5</th>\n",
       "      <td>6</td>\n",
       "      <td>15253</td>\n",
       "      <td>2577802.26</td>\n",
       "    </tr>\n",
       "    <tr>\n",
       "      <th>6</th>\n",
       "      <td>7</td>\n",
       "      <td>16072</td>\n",
       "      <td>2647775.76</td>\n",
       "    </tr>\n",
       "    <tr>\n",
       "      <th>7</th>\n",
       "      <td>8</td>\n",
       "      <td>13448</td>\n",
       "      <td>2244467.88</td>\n",
       "    </tr>\n",
       "    <tr>\n",
       "      <th>8</th>\n",
       "      <td>9</td>\n",
       "      <td>13109</td>\n",
       "      <td>2097560.13</td>\n",
       "    </tr>\n",
       "    <tr>\n",
       "      <th>9</th>\n",
       "      <td>10</td>\n",
       "      <td>22703</td>\n",
       "      <td>3736726.88</td>\n",
       "    </tr>\n",
       "    <tr>\n",
       "      <th>10</th>\n",
       "      <td>11</td>\n",
       "      <td>19798</td>\n",
       "      <td>3199603.20</td>\n",
       "    </tr>\n",
       "    <tr>\n",
       "      <th>11</th>\n",
       "      <td>12</td>\n",
       "      <td>28114</td>\n",
       "      <td>4613443.34</td>\n",
       "    </tr>\n",
       "  </tbody>\n",
       "</table>\n",
       "</div>"
      ],
      "text/plain": [
       "    Month  Quantity Ordered     Revenue\n",
       "0       1             10862  1813586.44\n",
       "1       2             13449  2202022.42\n",
       "2       3             17005  2807100.38\n",
       "3       4             20558  3390670.24\n",
       "4       5             18667  3152606.75\n",
       "5       6             15253  2577802.26\n",
       "6       7             16072  2647775.76\n",
       "7       8             13448  2244467.88\n",
       "8       9             13109  2097560.13\n",
       "9      10             22703  3736726.88\n",
       "10     11             19798  3199603.20\n",
       "11     12             28114  4613443.34"
      ]
     },
     "execution_count": 37,
     "metadata": {},
     "output_type": "execute_result"
    }
   ],
   "source": [
    "total_month_sales = sales_data.groupby('Month',as_index=False).agg({'Quantity Ordered':'sum', 'Revenue':'sum'})\n",
    "print('Total Sales by Month')\n",
    "total_month_sales"
   ]
  },
  {
   "cell_type": "code",
   "execution_count": 38,
   "id": "f0d1a645",
   "metadata": {},
   "outputs": [
    {
     "data": {
      "image/png": "[encoded data removed]",
      "text/plain": [
       "<Figure size 1000x500 with 1 Axes>"
      ]
     },
     "metadata": {},
     "output_type": "display_data"
    }
   ],
   "source": [
    "plt.rcParams['figure.figsize']=(10,5)\n",
    "ay = sns.barplot(x='Month',y='Revenue', data=total_month_sales, color='#0D4C92')\n",
    "plt.title('Total Sales by Month', weight='bold', fontsize=15, pad=15)\n",
    "plt.ylabel('Revenue (US$)', weight='bold')\n",
    "plt.xlabel('Month', weight='bold')\n",
    "\n",
    "ylabels = ['{:,.1f}'.format(y) + ' M' for y in ay.get_yticks()/1000000]\n",
    "ay.set_yticks(ay.get_yticks())  # just get and reset whatever you already have\n",
    "ay.set_yticklabels(ylabels);  # set the new/modified labels"
   ]
  },
  {
   "cell_type": "markdown",
   "id": "090b398a",
   "metadata": {},
   "source": [
    "From the graph above we can tell that __December__ is the best month for sales with __USD 4.613.443__ total revenue. The reason behind this may be because there's Christmas and the holiday in December where it's the momentum to buy a new product as a gift or for themself."
   ]
  },
  {
   "cell_type": "markdown",
   "id": "ba1de7e5",
   "metadata": {},
   "source": [
    "- - - "
   ]
  },
  {
   "cell_type": "markdown",
   "id": "f68f6ecf",
   "metadata": {},
   "source": [
    "## Q4: What City had the highest number of sales?"
   ]
  },
  {
   "cell_type": "code",
   "execution_count": 39,
   "id": "a308630a",
   "metadata": {},
   "outputs": [
    {
     "name": "stdout",
     "output_type": "stream",
     "text": [
      "Total Sales by City\n"
     ]
    },
    {
     "data": {
      "text/html": [
       "<div>\n",
       "<style scoped>\n",
       "    .dataframe tbody tr th:only-of-type {\n",
       "        vertical-align: middle;\n",
       "    }\n",
       "\n",
       "    .dataframe tbody tr th {\n",
       "        vertical-align: top;\n",
       "    }\n",
       "\n",
       "    .dataframe thead th {\n",
       "        text-align: right;\n",
       "    }\n",
       "</style>\n",
       "<table border=\"1\" class=\"dataframe\">\n",
       "  <thead>\n",
       "    <tr style=\"text-align: right;\">\n",
       "      <th></th>\n",
       "      <th>City</th>\n",
       "      <th>Quantity Ordered</th>\n",
       "      <th>Revenue</th>\n",
       "    </tr>\n",
       "  </thead>\n",
       "  <tbody>\n",
       "    <tr>\n",
       "      <th>0</th>\n",
       "      <td>Atlanta</td>\n",
       "      <td>16602</td>\n",
       "      <td>2795498.58</td>\n",
       "    </tr>\n",
       "    <tr>\n",
       "      <th>1</th>\n",
       "      <td>Austin</td>\n",
       "      <td>11151</td>\n",
       "      <td>1819081.77</td>\n",
       "    </tr>\n",
       "    <tr>\n",
       "      <th>2</th>\n",
       "      <td>Boston</td>\n",
       "      <td>22524</td>\n",
       "      <td>3660315.12</td>\n",
       "    </tr>\n",
       "    <tr>\n",
       "      <th>3</th>\n",
       "      <td>Dallas</td>\n",
       "      <td>16728</td>\n",
       "      <td>2766260.45</td>\n",
       "    </tr>\n",
       "    <tr>\n",
       "      <th>4</th>\n",
       "      <td>Los Angeles</td>\n",
       "      <td>33288</td>\n",
       "      <td>5451570.81</td>\n",
       "    </tr>\n",
       "    <tr>\n",
       "      <th>5</th>\n",
       "      <td>New York City</td>\n",
       "      <td>27916</td>\n",
       "      <td>4662976.81</td>\n",
       "    </tr>\n",
       "    <tr>\n",
       "      <th>6</th>\n",
       "      <td>Portland</td>\n",
       "      <td>14051</td>\n",
       "      <td>2320337.62</td>\n",
       "    </tr>\n",
       "    <tr>\n",
       "      <th>7</th>\n",
       "      <td>San Francisco</td>\n",
       "      <td>50226</td>\n",
       "      <td>8259719.03</td>\n",
       "    </tr>\n",
       "    <tr>\n",
       "      <th>8</th>\n",
       "      <td>Seattle</td>\n",
       "      <td>16552</td>\n",
       "      <td>2747605.49</td>\n",
       "    </tr>\n",
       "  </tbody>\n",
       "</table>\n",
       "</div>"
      ],
      "text/plain": [
       "            City  Quantity Ordered     Revenue\n",
       "0        Atlanta             16602  2795498.58\n",
       "1         Austin             11151  1819081.77\n",
       "2         Boston             22524  3660315.12\n",
       "3         Dallas             16728  2766260.45\n",
       "4    Los Angeles             33288  5451570.81\n",
       "5  New York City             27916  4662976.81\n",
       "6       Portland             14051  2320337.62\n",
       "7  San Francisco             50226  8259719.03\n",
       "8        Seattle             16552  2747605.49"
      ]
     },
     "execution_count": 39,
     "metadata": {},
     "output_type": "execute_result"
    }
   ],
   "source": [
    "city_sales = sales_data.groupby('City',as_index=False).agg({'Quantity Ordered':'sum', 'Revenue':'sum'})\n",
    "print('Total Sales by City')\n",
    "city_sales"
   ]
  },
  {
   "cell_type": "code",
   "execution_count": 40,
   "id": "a9136e05",
   "metadata": {},
   "outputs": [
    {
     "data": {
      "image/png": "[encoded data removed]",
      "text/plain": [
       "<Figure size 1000x500 with 1 Axes>"
      ]
     },
     "metadata": {},
     "output_type": "display_data"
    }
   ],
   "source": [
    "plt.rcParams['figure.figsize']=(10,5)\n",
    "ax = sns.barplot(x='Revenue',y='City', data=city_sales.sort_values('Revenue', ascending=False))\n",
    "plt.title('Total Sales by City', weight='bold', fontsize=15, pad=15)\n",
    "plt.ylabel('City', weight='bold')\n",
    "plt.xlabel('Revenue (US$)', weight='bold')\n",
    "\n",
    "xlabels = ['{:,.1f}'.format(y) + ' M' for y in ax.get_xticks()/1000000]\n",
    "ax.set_xticks(ax.get_xticks())  # just get and reset whatever you already have\n",
    "ax.set_xticklabels(xlabels);  # set the new/modified labels"
   ]
  },
  {
   "cell_type": "markdown",
   "id": "8f03d10b",
   "metadata": {},
   "source": [
    "__San Francisco__ had the highest total sales in 2019 with __USD 8.259.719__. We need further information and study about the demographic, economic, and advertising to figure out why San Fransisco had the highest sales compared to other cities in the USA."
   ]
  },
  {
   "cell_type": "markdown",
   "id": "b8e9b117",
   "metadata": {},
   "source": [
    "- - - "
   ]
  },
  {
   "cell_type": "markdown",
   "id": "d1d0f0f4",
   "metadata": {},
   "source": [
    "## Q5: What product sold the most? Why it sold the most?"
   ]
  },
  {
   "cell_type": "code",
   "execution_count": 41,
   "id": "fc55906f",
   "metadata": {},
   "outputs": [
    {
     "data": {
      "text/html": [
       "<div>\n",
       "<style scoped>\n",
       "    .dataframe tbody tr th:only-of-type {\n",
       "        vertical-align: middle;\n",
       "    }\n",
       "\n",
       "    .dataframe tbody tr th {\n",
       "        vertical-align: top;\n",
       "    }\n",
       "\n",
       "    .dataframe thead th {\n",
       "        text-align: right;\n",
       "    }\n",
       "</style>\n",
       "<table border=\"1\" class=\"dataframe\">\n",
       "  <thead>\n",
       "    <tr style=\"text-align: right;\">\n",
       "      <th></th>\n",
       "      <th>Product</th>\n",
       "      <th>Quantity Ordered</th>\n",
       "    </tr>\n",
       "  </thead>\n",
       "  <tbody>\n",
       "    <tr>\n",
       "      <th>5</th>\n",
       "      <td>AAA Batteries (4-pack)</td>\n",
       "      <td>31012</td>\n",
       "    </tr>\n",
       "    <tr>\n",
       "      <th>4</th>\n",
       "      <td>AA Batteries (4-pack)</td>\n",
       "      <td>27635</td>\n",
       "    </tr>\n",
       "    <tr>\n",
       "      <th>15</th>\n",
       "      <td>USB-C Charging Cable</td>\n",
       "      <td>23971</td>\n",
       "    </tr>\n",
       "    <tr>\n",
       "      <th>12</th>\n",
       "      <td>Lightning Charging Cable</td>\n",
       "      <td>23211</td>\n",
       "    </tr>\n",
       "    <tr>\n",
       "      <th>17</th>\n",
       "      <td>Wired Headphones</td>\n",
       "      <td>20553</td>\n",
       "    </tr>\n",
       "    <tr>\n",
       "      <th>6</th>\n",
       "      <td>Apple Airpods Headphones</td>\n",
       "      <td>15657</td>\n",
       "    </tr>\n",
       "    <tr>\n",
       "      <th>7</th>\n",
       "      <td>Bose SoundSport Headphones</td>\n",
       "      <td>13454</td>\n",
       "    </tr>\n",
       "    <tr>\n",
       "      <th>2</th>\n",
       "      <td>27in FHD Monitor</td>\n",
       "      <td>7547</td>\n",
       "    </tr>\n",
       "    <tr>\n",
       "      <th>18</th>\n",
       "      <td>iPhone</td>\n",
       "      <td>6847</td>\n",
       "    </tr>\n",
       "    <tr>\n",
       "      <th>1</th>\n",
       "      <td>27in 4K Gaming Monitor</td>\n",
       "      <td>6243</td>\n",
       "    </tr>\n",
       "    <tr>\n",
       "      <th>3</th>\n",
       "      <td>34in Ultrawide Monitor</td>\n",
       "      <td>6199</td>\n",
       "    </tr>\n",
       "    <tr>\n",
       "      <th>9</th>\n",
       "      <td>Google Phone</td>\n",
       "      <td>5531</td>\n",
       "    </tr>\n",
       "    <tr>\n",
       "      <th>8</th>\n",
       "      <td>Flatscreen TV</td>\n",
       "      <td>4818</td>\n",
       "    </tr>\n",
       "    <tr>\n",
       "      <th>13</th>\n",
       "      <td>Macbook Pro Laptop</td>\n",
       "      <td>4727</td>\n",
       "    </tr>\n",
       "    <tr>\n",
       "      <th>14</th>\n",
       "      <td>ThinkPad Laptop</td>\n",
       "      <td>4128</td>\n",
       "    </tr>\n",
       "    <tr>\n",
       "      <th>0</th>\n",
       "      <td>20in Monitor</td>\n",
       "      <td>4126</td>\n",
       "    </tr>\n",
       "    <tr>\n",
       "      <th>16</th>\n",
       "      <td>Vareebadd Phone</td>\n",
       "      <td>2067</td>\n",
       "    </tr>\n",
       "    <tr>\n",
       "      <th>11</th>\n",
       "      <td>LG Washing Machine</td>\n",
       "      <td>666</td>\n",
       "    </tr>\n",
       "    <tr>\n",
       "      <th>10</th>\n",
       "      <td>LG Dryer</td>\n",
       "      <td>646</td>\n",
       "    </tr>\n",
       "  </tbody>\n",
       "</table>\n",
       "</div>"
      ],
      "text/plain": [
       "                       Product  Quantity Ordered\n",
       "5       AAA Batteries (4-pack)             31012\n",
       "4        AA Batteries (4-pack)             27635\n",
       "15        USB-C Charging Cable             23971\n",
       "12    Lightning Charging Cable             23211\n",
       "17            Wired Headphones             20553\n",
       "6     Apple Airpods Headphones             15657\n",
       "7   Bose SoundSport Headphones             13454\n",
       "2             27in FHD Monitor              7547\n",
       "18                      iPhone              6847\n",
       "1       27in 4K Gaming Monitor              6243\n",
       "3       34in Ultrawide Monitor              6199\n",
       "9                 Google Phone              5531\n",
       "8                Flatscreen TV              4818\n",
       "13          Macbook Pro Laptop              4727\n",
       "14             ThinkPad Laptop              4128\n",
       "0                 20in Monitor              4126\n",
       "16             Vareebadd Phone              2067\n",
       "11          LG Washing Machine               666\n",
       "10                    LG Dryer               646"
      ]
     },
     "execution_count": 41,
     "metadata": {},
     "output_type": "execute_result"
    }
   ],
   "source": [
    "product_sales = sales_data.groupby('Product',as_index=False).agg({'Quantity Ordered':'sum'}).sort_values('Quantity Ordered', ascending=False)\n",
    "product_sales"
   ]
  },
  {
   "cell_type": "code",
   "execution_count": 42,
   "id": "f652a431",
   "metadata": {},
   "outputs": [
    {
     "data": {
      "image/png": "[encoded data removed]",
      "text/plain": [
       "<Figure size 1000x500 with 1 Axes>"
      ]
     },
     "metadata": {},
     "output_type": "display_data"
    }
   ],
   "source": [
    "plt.rcParams['figure.figsize']=(10,5)\n",
    "q5 = sns.barplot(x='Quantity Ordered',y='Product', data=product_sales.sort_values('Quantity Ordered', ascending=False), \n",
    "                 color='#0D4C92')\n",
    "plt.title('Quantity Ordered by Product', weight='bold', fontsize=15, pad=15)\n",
    "plt.xlabel('Quantity Ordered', weight='bold')\n",
    "plt.ylabel('Product', weight='bold');"
   ]
  },
  {
   "cell_type": "markdown",
   "id": "18a6e98a",
   "metadata": {},
   "source": [
    "From the graph above we can tell that the most sold products in 2019 were __AAA Batteries (4-pack)__ with __31.012 products ordered__. We also can tell that AA Batteries (4-pack), USB-C Charging Cable, Lightning Charging Cable, and Wired Headphones sold more than other products. Why do these products sell more than others? My first impression is that their price is lower than other products. So, let's do further analysis to check our hypothesis by overlaying the graph with product price."
   ]
  },
  {
   "cell_type": "code",
   "execution_count": 43,
   "id": "38a5c891",
   "metadata": {},
   "outputs": [
    {
     "data": {
      "image/png": "[encoded data removed]",
      "text/plain": [
       "<Figure size 1200x600 with 2 Axes>"
      ]
     },
     "metadata": {},
     "output_type": "display_data"
    }
   ],
   "source": [
    "# lets prepare the varables for the plotting\n",
    "# group the product\n",
    "product_group = sales_data.groupby('Product')\n",
    "quantity_ordered = product_group.sum(['Quantity Ordered'])['Quantity Ordered']\n",
    "prices = sales_data.groupby('Product').mean(['Price Each'])['Price Each']\n",
    "products = [product for product, df in product_group]\n",
    "\"\"\"Visualization\"\"\"\n",
    "# let's make a subplots\n",
    "fig, ax1 = plt.subplots(figsize=(12, 6))\n",
    "ax2 = ax1.twinx()\n",
    "\n",
    "# AXES 1\n",
    "ax1.bar(products, quantity_ordered)\n",
    "ax1.set_title( # title\n",
    "    \"Quantity Ordered and Price by Product\",\n",
    "    weight=\"bold\", # weight\n",
    "    fontsize=15, # font-size\n",
    "    pad=15 # padding\n",
    ")\n",
    "ax1.set_xlabel( # x-label\n",
    "    \"Product\",\n",
    "    weight=\"bold\", # weight\n",
    "    color=\"black\" # color\n",
    ")\n",
    "ax1.set_ylabel( # y-label\n",
    "    \"Quantity Ordered\", \n",
    "    color=\"blue\", # color\n",
    "    weight=\"bold\" # weight\n",
    ")\n",
    "ax1.tick_params(axis='x', labelrotation = 90)\n",
    "\n",
    "# AXES 2\n",
    "ax2.plot( # plot\n",
    "    products, # x-axis\n",
    "    prices, # y-axis\n",
    "    color=\"red\",\n",
    "    marker='o'\n",
    ")\n",
    "ax2.set_ylabel( # y-label\n",
    "    \"Price (US$)\", \n",
    "    color=\"red\", # color\n",
    "    weight=\"bold\" # weight\n",
    ")\n",
    "ax2.set_ylim(0);"
   ]
  },
  {
   "cell_type": "markdown",
   "id": "923b1f2a",
   "metadata": {},
   "source": [
    "We can say that our hypothesis is true, high-sold products have a low price. The high-sold products also had a lot of demand in the market that was used eventually in daily activity."
   ]
  },
  {
   "cell_type": "markdown",
   "id": "d41d48db",
   "metadata": {},
   "source": [
    "___"
   ]
  },
  {
   "cell_type": "markdown",
   "id": "8135741c",
   "metadata": {},
   "source": [
    "## Q6: What products are most often sold together?"
   ]
  },
  {
   "cell_type": "code",
   "execution_count": 45,
   "id": "9a63ca76",
   "metadata": {},
   "outputs": [
    {
     "data": {
      "text/html": [
       "<div>\n",
       "<style scoped>\n",
       "    .dataframe tbody tr th:only-of-type {\n",
       "        vertical-align: middle;\n",
       "    }\n",
       "\n",
       "    .dataframe tbody tr th {\n",
       "        vertical-align: top;\n",
       "    }\n",
       "\n",
       "    .dataframe thead th {\n",
       "        text-align: right;\n",
       "    }\n",
       "</style>\n",
       "<table border=\"1\" class=\"dataframe\">\n",
       "  <thead>\n",
       "    <tr style=\"text-align: right;\">\n",
       "      <th></th>\n",
       "      <th>Order ID</th>\n",
       "      <th>Product</th>\n",
       "      <th>Quantity Ordered</th>\n",
       "      <th>Price Each</th>\n",
       "      <th>Order Date</th>\n",
       "      <th>Purchase Address</th>\n",
       "      <th>Year</th>\n",
       "      <th>Month</th>\n",
       "      <th>Hour</th>\n",
       "      <th>Minute</th>\n",
       "      <th>Revenue</th>\n",
       "      <th>City</th>\n",
       "      <th>Bundle</th>\n",
       "    </tr>\n",
       "  </thead>\n",
       "  <tbody>\n",
       "    <tr>\n",
       "      <th>3</th>\n",
       "      <td>176560</td>\n",
       "      <td>Google Phone</td>\n",
       "      <td>1</td>\n",
       "      <td>600.00</td>\n",
       "      <td>2019-04-12 14:38:00</td>\n",
       "      <td>669 Spruce St, Los Angeles, CA 90001</td>\n",
       "      <td>2019</td>\n",
       "      <td>4</td>\n",
       "      <td>14</td>\n",
       "      <td>38</td>\n",
       "      <td>600.00</td>\n",
       "      <td>Los Angeles</td>\n",
       "      <td>Google Phone,Wired Headphones</td>\n",
       "    </tr>\n",
       "    <tr>\n",
       "      <th>4</th>\n",
       "      <td>176560</td>\n",
       "      <td>Wired Headphones</td>\n",
       "      <td>1</td>\n",
       "      <td>11.99</td>\n",
       "      <td>2019-04-12 14:38:00</td>\n",
       "      <td>669 Spruce St, Los Angeles, CA 90001</td>\n",
       "      <td>2019</td>\n",
       "      <td>4</td>\n",
       "      <td>14</td>\n",
       "      <td>38</td>\n",
       "      <td>11.99</td>\n",
       "      <td>Los Angeles</td>\n",
       "      <td>Google Phone,Wired Headphones</td>\n",
       "    </tr>\n",
       "    <tr>\n",
       "      <th>18</th>\n",
       "      <td>176574</td>\n",
       "      <td>Google Phone</td>\n",
       "      <td>1</td>\n",
       "      <td>600.00</td>\n",
       "      <td>2019-04-03 19:42:00</td>\n",
       "      <td>20 Hill St, Los Angeles, CA 90001</td>\n",
       "      <td>2019</td>\n",
       "      <td>4</td>\n",
       "      <td>19</td>\n",
       "      <td>42</td>\n",
       "      <td>600.00</td>\n",
       "      <td>Los Angeles</td>\n",
       "      <td>Google Phone,USB-C Charging Cable</td>\n",
       "    </tr>\n",
       "    <tr>\n",
       "      <th>19</th>\n",
       "      <td>176574</td>\n",
       "      <td>USB-C Charging Cable</td>\n",
       "      <td>1</td>\n",
       "      <td>11.95</td>\n",
       "      <td>2019-04-03 19:42:00</td>\n",
       "      <td>20 Hill St, Los Angeles, CA 90001</td>\n",
       "      <td>2019</td>\n",
       "      <td>4</td>\n",
       "      <td>19</td>\n",
       "      <td>42</td>\n",
       "      <td>11.95</td>\n",
       "      <td>Los Angeles</td>\n",
       "      <td>Google Phone,USB-C Charging Cable</td>\n",
       "    </tr>\n",
       "    <tr>\n",
       "      <th>30</th>\n",
       "      <td>176585</td>\n",
       "      <td>Bose SoundSport Headphones</td>\n",
       "      <td>1</td>\n",
       "      <td>99.99</td>\n",
       "      <td>2019-04-07 11:31:00</td>\n",
       "      <td>823 Highland St, Boston, MA 02215</td>\n",
       "      <td>2019</td>\n",
       "      <td>4</td>\n",
       "      <td>11</td>\n",
       "      <td>31</td>\n",
       "      <td>99.99</td>\n",
       "      <td>Boston</td>\n",
       "      <td>Bose SoundSport Headphones,Bose SoundSport Hea...</td>\n",
       "    </tr>\n",
       "  </tbody>\n",
       "</table>\n",
       "</div>"
      ],
      "text/plain": [
       "   Order ID                     Product  Quantity Ordered  Price Each  \\\n",
       "3    176560                Google Phone                 1      600.00   \n",
       "4    176560            Wired Headphones                 1       11.99   \n",
       "18   176574                Google Phone                 1      600.00   \n",
       "19   176574        USB-C Charging Cable                 1       11.95   \n",
       "30   176585  Bose SoundSport Headphones                 1       99.99   \n",
       "\n",
       "            Order Date                      Purchase Address  Year  Month  \\\n",
       "3  2019-04-12 14:38:00  669 Spruce St, Los Angeles, CA 90001  2019      4   \n",
       "4  2019-04-12 14:38:00  669 Spruce St, Los Angeles, CA 90001  2019      4   \n",
       "18 2019-04-03 19:42:00     20 Hill St, Los Angeles, CA 90001  2019      4   \n",
       "19 2019-04-03 19:42:00     20 Hill St, Los Angeles, CA 90001  2019      4   \n",
       "30 2019-04-07 11:31:00     823 Highland St, Boston, MA 02215  2019      4   \n",
       "\n",
       "    Hour  Minute  Revenue         City  \\\n",
       "3     14      38   600.00  Los Angeles   \n",
       "4     14      38    11.99  Los Angeles   \n",
       "18    19      42   600.00  Los Angeles   \n",
       "19    19      42    11.95  Los Angeles   \n",
       "30    11      31    99.99       Boston   \n",
       "\n",
       "                                               Bundle  \n",
       "3                       Google Phone,Wired Headphones  \n",
       "4                       Google Phone,Wired Headphones  \n",
       "18                  Google Phone,USB-C Charging Cable  \n",
       "19                  Google Phone,USB-C Charging Cable  \n",
       "30  Bose SoundSport Headphones,Bose SoundSport Hea...  "
      ]
     },
     "execution_count": 45,
     "metadata": {},
     "output_type": "execute_result"
    }
   ],
   "source": [
    "# Importing libraries to count combination products\n",
    "from itertools import combinations\n",
    "from collections import Counter\n",
    "\n",
    "# Dropping duplicate values of 'Order ID' using duplicated() function\n",
    "data = sales_data[sales_data['Order ID'].duplicated(keep=False)]\n",
    "# Joining product ordered with the same 'Order ID' in the new column called 'Bundle'\n",
    "data['Bundle'] = sales_data.groupby('Order ID')['Product'].transform(lambda x: ','.join(x))\n",
    "\n",
    "pd.set_option('mode.chained_assignment', None)\n",
    "# This will stop showing the warning \n",
    "\n",
    "data.head()"
   ]
  },
  {
   "cell_type": "markdown",
   "id": "49436a88",
   "metadata": {},
   "source": [
    "We have got some data with the same 'Order ID' and 'Bundle' at least twice because we did merge them in every situation in groupby without dropping the duplicate values. So, we have to drop the rows with duplicate 'Order ID' and 'Bundle' values."
   ]
  },
  {
   "cell_type": "code",
   "execution_count": 46,
   "id": "4db2823e",
   "metadata": {},
   "outputs": [
    {
     "name": "stdout",
     "output_type": "stream",
     "text": [
      "('iPhone', 'Lightning Charging Cable') 1004\n",
      "('Google Phone', 'USB-C Charging Cable') 987\n",
      "('iPhone', 'Wired Headphones') 447\n",
      "('Google Phone', 'Wired Headphones') 414\n",
      "('Vareebadd Phone', 'USB-C Charging Cable') 361\n",
      "('iPhone', 'Apple Airpods Headphones') 359\n",
      "('Google Phone', 'Bose SoundSport Headphones') 220\n",
      "('USB-C Charging Cable', 'Wired Headphones') 160\n",
      "('Vareebadd Phone', 'Wired Headphones') 143\n",
      "('Lightning Charging Cable', 'Wired Headphones') 92\n"
     ]
    }
   ],
   "source": [
    "# Dropping duplicate values\n",
    "data = data[['Order ID', 'Bundle']].drop_duplicates()\n",
    "# Creating a new variable for Counter\n",
    "count = Counter()\n",
    "# Creating a loop to count all the 2 product bundles.\n",
    "for row in data['Bundle']:\n",
    "    row_list = row.split(',')\n",
    "    count.update(Counter(combinations(row_list, 2)))\n",
    "# Creating another loop to display the 10 most often products that sold together.\n",
    "for key, value in count.most_common(10):\n",
    "    print(key, value)"
   ]
  },
  {
   "cell_type": "markdown",
   "id": "3b490b95",
   "metadata": {},
   "source": [
    "We can see the most often products that sold together are __iPhone and Lightning Charging Cable__ with __1004 transactions__. __Google Phone and USB-C Charging Cable__ came second with __987 transactions__. \n",
    "\n",
    "With this information we could offer a smart deal bundle to the customer that buys iPhone,  we could recommend the Lightning Charging Cable with a discount. We also can bundle the remaining products with good marketing strategies."
   ]
  },
  {
   "cell_type": "markdown",
   "id": "24f38cb4",
   "metadata": {},
   "source": [
    "## Q7: What time should we display adverstisement to maximize likelihood of customer's buying product?"
   ]
  },
  {
   "cell_type": "code",
   "execution_count": 47,
   "id": "84e28908",
   "metadata": {},
   "outputs": [
    {
     "data": {
      "image/png": "[encoded data removed]",
      "text/plain": [
       "<Figure size 1200x600 with 1 Axes>"
      ]
     },
     "metadata": {},
     "output_type": "display_data"
    }
   ],
   "source": [
    "hours_data = sales_data.groupby(['Hour']).count()\n",
    "hours = [hour for hour, df in sales_data.groupby('Hour')]\n",
    "\n",
    "# Plotting\n",
    "plt.figure(figsize=(12, 6))\n",
    "# makes bar plot \n",
    "plt.plot(\n",
    "    hours, # x-axis\n",
    "    sales_data.groupby(['Hour']).count()\n",
    ")\n",
    "# let's add grid\n",
    "plt.grid(True)\n",
    "plt.title( # title\n",
    "    \"Number of Orders by Hour\", \n",
    "    weight=\"bold\", # weight\n",
    "    fontsize=15, # font-size\n",
    "    pad=15\n",
    ")\n",
    "plt.xlabel( # x-label\n",
    "    \"Hour\", \n",
    "    weight=\"bold\", # weight\n",
    "    loc=\"center\" # location\n",
    ")\n",
    "plt.xticks( # x-ticks\n",
    "    ticks=hours, # labels\n",
    ")\n",
    "plt.ylabel( # y-label\n",
    "    \"Number of Orders\", \n",
    "    weight=\"bold\", # weight\n",
    "    loc=\"center\" # location\n",
    ");"
   ]
  },
  {
   "cell_type": "markdown",
   "id": "709d851a",
   "metadata": {},
   "source": [
    "We can see that there are 2 peak hours in the data. They are 12 (12 PM) and 19 (7 PM). This makes sense since most people got some spare time for shopping during these hours. With this information, I recommend advertising the product at __9—11 AM__ and __4—6 PM__. For further marketing strategy, we could specify the city and plan the best advertisement that suits the city."
   ]
  },
  {
   "cell_type": "markdown",
   "id": "b8cf5e4d",
   "metadata": {},
   "source": [
    "___"
   ]
  },
  {
   "cell_type": "markdown",
   "id": "7e8a6ac6",
   "metadata": {},
   "source": [
    "# Conclusion"
   ]
  },
  {
   "cell_type": "markdown",
   "id": "0573ddd7",
   "metadata": {},
   "source": [
    "* The total sales in 2019 were __USD 34.483.365__ with __209.038 products sold__.\n",
    "* __May__ has the highest average revenue with __USD 190.305852__, while __September__ has the lowest average revenue with __USD 180.497387__.\n",
    "* __December__ is the best month for sales with __USD 4.613.443 total revenue__.\n",
    "* __San Francisco__ had the highest total sales in 2019 with __USD 8.259.719 total revenue__.\n",
    "* __AAA Batteries (4-pack)__ are the most sold product with __31.012 products ordered__.\n",
    "* __iPhone and Lightning Charging Cable__ are the most often products sold together with __1004 transactions__, __Google Phone and USB-C Charging Cable__ came second with __987 transactions__.\n",
    "* I recommend advertising the product before 12 PM and 7 PM, which could be at __9—11 AM__ and __4—6 PM__."
   ]
  }
 ],
 "metadata": {
  "kernelspec": {
   "display_name": "Python 3 (ipykernel)",
   "language": "python",
   "name": "python3"
  },
  "language_info": {
   "codemirror_mode": {
    "name": "ipython",
    "version": 3
   },
   "file_extension": ".py",
   "mimetype": "text/x-python",
   "name": "python",
   "nbconvert_exporter": "python",
   "pygments_lexer": "ipython3",
   "version": "3.11.0"
  }
 },
 "nbformat": 4,
 "nbformat_minor": 5
}
